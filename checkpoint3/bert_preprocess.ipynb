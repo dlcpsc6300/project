{
  "cells": [
    {
      "cell_type": "code",
      "execution_count": 2,
      "metadata": {
        "colab": {
          "base_uri": "https://localhost:8080/"
        },
        "id": "SGAVihoFao_I",
        "outputId": "0cc54c18-0d19-42c5-dd43-8d498303b438"
      },
      "outputs": [],
      "source": [
        "import pandas as pd\n",
        "import numpy as np\n",
        "import seaborn as sns\n",
        "import matplotlib.pyplot as plt\n",
        "import re"
      ]
    },
    {
      "cell_type": "code",
      "execution_count": 3,
      "metadata": {
        "colab": {
          "base_uri": "https://localhost:8080/"
        },
        "id": "hl4vKiUqarlK",
        "outputId": "85d81a6d-6d12-4307-9a17-fe0e56d31d5c"
      },
      "outputs": [],
      "source": [
        "df = pd.read_csv(\"reviews_final_raw.csv\")"
      ]
    },
    {
      "cell_type": "code",
      "execution_count": 4,
      "metadata": {
        "colab": {
          "base_uri": "https://localhost:8080/",
          "height": 206
        },
        "id": "aP9EvcjobKW7",
        "outputId": "29fb7b28-206d-4aed-9492-5ebc94825fa4"
      },
      "outputs": [
        {
          "data": {
            "text/html": [
              "<div>\n",
              "<style scoped>\n",
              "    .dataframe tbody tr th:only-of-type {\n",
              "        vertical-align: middle;\n",
              "    }\n",
              "\n",
              "    .dataframe tbody tr th {\n",
              "        vertical-align: top;\n",
              "    }\n",
              "\n",
              "    .dataframe thead th {\n",
              "        text-align: right;\n",
              "    }\n",
              "</style>\n",
              "<table border=\"1\" class=\"dataframe\">\n",
              "  <thead>\n",
              "    <tr style=\"text-align: right;\">\n",
              "      <th></th>\n",
              "      <th>title</th>\n",
              "      <th>body</th>\n",
              "      <th>rating_item</th>\n",
              "      <th>rating_delivery</th>\n",
              "      <th>rating_seller</th>\n",
              "      <th>rating_marketplace</th>\n",
              "      <th>rating_total</th>\n",
              "    </tr>\n",
              "  </thead>\n",
              "  <tbody>\n",
              "    <tr>\n",
              "      <th>0</th>\n",
              "      <td>\"Efficient yet lackluster shopping experience\"</td>\n",
              "      <td>I recently purchased a mobile phone and while ...</td>\n",
              "      <td>4.0</td>\n",
              "      <td>2.0</td>\n",
              "      <td>4.0</td>\n",
              "      <td>2.0</td>\n",
              "      <td>3</td>\n",
              "    </tr>\n",
              "    <tr>\n",
              "      <th>1</th>\n",
              "      <td>\"Dependable Mobile, nothing too special.\"</td>\n",
              "      <td>I purchased this mobile phone online and recei...</td>\n",
              "      <td>1.0</td>\n",
              "      <td>4.0</td>\n",
              "      <td>2.0</td>\n",
              "      <td>4.0</td>\n",
              "      <td>3</td>\n",
              "    </tr>\n",
              "    <tr>\n",
              "      <th>2</th>\n",
              "      <td>\"Great Purchase Experience for Mobile Phone\"</td>\n",
              "      <td>I recently bought a mobile phone from this sel...</td>\n",
              "      <td>1.0</td>\n",
              "      <td>4.0</td>\n",
              "      <td>4.0</td>\n",
              "      <td>4.0</td>\n",
              "      <td>4</td>\n",
              "    </tr>\n",
              "    <tr>\n",
              "      <th>3</th>\n",
              "      <td>A Satisfactory Purchase</td>\n",
              "      <td>I recently acquired a mobile phone that I am h...</td>\n",
              "      <td>4.0</td>\n",
              "      <td>5.0</td>\n",
              "      <td>5.0</td>\n",
              "      <td>2.0</td>\n",
              "      <td>4</td>\n",
              "    </tr>\n",
              "    <tr>\n",
              "      <th>4</th>\n",
              "      <td>\"Great Mobile Phone - Disappointing Delivery a...</td>\n",
              "      <td>I recently purchased a new mobile phone and ov...</td>\n",
              "      <td>4.0</td>\n",
              "      <td>1.0</td>\n",
              "      <td>1.0</td>\n",
              "      <td>4.0</td>\n",
              "      <td>3</td>\n",
              "    </tr>\n",
              "  </tbody>\n",
              "</table>\n",
              "</div>"
            ],
            "text/plain": [
              "                                               title  \\\n",
              "0     \"Efficient yet lackluster shopping experience\"   \n",
              "1          \"Dependable Mobile, nothing too special.\"   \n",
              "2       \"Great Purchase Experience for Mobile Phone\"   \n",
              "3                            A Satisfactory Purchase   \n",
              "4  \"Great Mobile Phone - Disappointing Delivery a...   \n",
              "\n",
              "                                                body  rating_item  \\\n",
              "0  I recently purchased a mobile phone and while ...          4.0   \n",
              "1  I purchased this mobile phone online and recei...          1.0   \n",
              "2  I recently bought a mobile phone from this sel...          1.0   \n",
              "3  I recently acquired a mobile phone that I am h...          4.0   \n",
              "4  I recently purchased a new mobile phone and ov...          4.0   \n",
              "\n",
              "   rating_delivery  rating_seller  rating_marketplace  rating_total  \n",
              "0              2.0            4.0                 2.0             3  \n",
              "1              4.0            2.0                 4.0             3  \n",
              "2              4.0            4.0                 4.0             4  \n",
              "3              5.0            5.0                 2.0             4  \n",
              "4              1.0            1.0                 4.0             3  "
            ]
          },
          "execution_count": 4,
          "metadata": {},
          "output_type": "execute_result"
        }
      ],
      "source": [
        "df.head()"
      ]
    },
    {
      "cell_type": "code",
      "execution_count": 5,
      "metadata": {
        "id": "RsGCBrebdGSz"
      },
      "outputs": [],
      "source": [
        "df.fillna(0,inplace=True)"
      ]
    },
    {
      "cell_type": "code",
      "execution_count": 6,
      "metadata": {
        "id": "iWCz-GADd3VJ"
      },
      "outputs": [],
      "source": [
        "df['rating_marketplace'] = df['rating_marketplace'].astype(int)\n",
        "df['rating_item'] = df['rating_item'].astype(int)\n",
        "df['rating_seller'] = df['rating_seller'].astype(int)\n",
        "df['rating_delivery'] = df['rating_delivery'].astype(int)"
      ]
    },
    {
      "cell_type": "code",
      "execution_count": 7,
      "metadata": {
        "colab": {
          "base_uri": "https://localhost:8080/",
          "height": 206
        },
        "id": "ozm2SIByeUgT",
        "outputId": "74d048f6-3fb1-4b50-ccdc-b5e328519e5f"
      },
      "outputs": [
        {
          "data": {
            "text/html": [
              "<div>\n",
              "<style scoped>\n",
              "    .dataframe tbody tr th:only-of-type {\n",
              "        vertical-align: middle;\n",
              "    }\n",
              "\n",
              "    .dataframe tbody tr th {\n",
              "        vertical-align: top;\n",
              "    }\n",
              "\n",
              "    .dataframe thead th {\n",
              "        text-align: right;\n",
              "    }\n",
              "</style>\n",
              "<table border=\"1\" class=\"dataframe\">\n",
              "  <thead>\n",
              "    <tr style=\"text-align: right;\">\n",
              "      <th></th>\n",
              "      <th>title</th>\n",
              "      <th>body</th>\n",
              "      <th>rating_item</th>\n",
              "      <th>rating_delivery</th>\n",
              "      <th>rating_seller</th>\n",
              "      <th>rating_marketplace</th>\n",
              "      <th>rating_total</th>\n",
              "    </tr>\n",
              "  </thead>\n",
              "  <tbody>\n",
              "    <tr>\n",
              "      <th>0</th>\n",
              "      <td>\"Efficient yet lackluster shopping experience\"</td>\n",
              "      <td>I recently purchased a mobile phone and while ...</td>\n",
              "      <td>4</td>\n",
              "      <td>2</td>\n",
              "      <td>4</td>\n",
              "      <td>2</td>\n",
              "      <td>3</td>\n",
              "    </tr>\n",
              "    <tr>\n",
              "      <th>1</th>\n",
              "      <td>\"Dependable Mobile, nothing too special.\"</td>\n",
              "      <td>I purchased this mobile phone online and recei...</td>\n",
              "      <td>1</td>\n",
              "      <td>4</td>\n",
              "      <td>2</td>\n",
              "      <td>4</td>\n",
              "      <td>3</td>\n",
              "    </tr>\n",
              "    <tr>\n",
              "      <th>2</th>\n",
              "      <td>\"Great Purchase Experience for Mobile Phone\"</td>\n",
              "      <td>I recently bought a mobile phone from this sel...</td>\n",
              "      <td>1</td>\n",
              "      <td>4</td>\n",
              "      <td>4</td>\n",
              "      <td>4</td>\n",
              "      <td>4</td>\n",
              "    </tr>\n",
              "    <tr>\n",
              "      <th>3</th>\n",
              "      <td>A Satisfactory Purchase</td>\n",
              "      <td>I recently acquired a mobile phone that I am h...</td>\n",
              "      <td>4</td>\n",
              "      <td>5</td>\n",
              "      <td>5</td>\n",
              "      <td>2</td>\n",
              "      <td>4</td>\n",
              "    </tr>\n",
              "    <tr>\n",
              "      <th>4</th>\n",
              "      <td>\"Great Mobile Phone - Disappointing Delivery a...</td>\n",
              "      <td>I recently purchased a new mobile phone and ov...</td>\n",
              "      <td>4</td>\n",
              "      <td>1</td>\n",
              "      <td>1</td>\n",
              "      <td>4</td>\n",
              "      <td>3</td>\n",
              "    </tr>\n",
              "  </tbody>\n",
              "</table>\n",
              "</div>"
            ],
            "text/plain": [
              "                                               title  \\\n",
              "0     \"Efficient yet lackluster shopping experience\"   \n",
              "1          \"Dependable Mobile, nothing too special.\"   \n",
              "2       \"Great Purchase Experience for Mobile Phone\"   \n",
              "3                            A Satisfactory Purchase   \n",
              "4  \"Great Mobile Phone - Disappointing Delivery a...   \n",
              "\n",
              "                                                body  rating_item  \\\n",
              "0  I recently purchased a mobile phone and while ...            4   \n",
              "1  I purchased this mobile phone online and recei...            1   \n",
              "2  I recently bought a mobile phone from this sel...            1   \n",
              "3  I recently acquired a mobile phone that I am h...            4   \n",
              "4  I recently purchased a new mobile phone and ov...            4   \n",
              "\n",
              "   rating_delivery  rating_seller  rating_marketplace  rating_total  \n",
              "0                2              4                   2             3  \n",
              "1                4              2                   4             3  \n",
              "2                4              4                   4             4  \n",
              "3                5              5                   2             4  \n",
              "4                1              1                   4             3  "
            ]
          },
          "execution_count": 7,
          "metadata": {},
          "output_type": "execute_result"
        }
      ],
      "source": [
        "df.head()"
      ]
    },
    {
      "cell_type": "code",
      "execution_count": 8,
      "metadata": {
        "id": "VkgI_HIJfnsf"
      },
      "outputs": [],
      "source": [
        "df['body'] = df['title'] + df['body']"
      ]
    },
    {
      "cell_type": "code",
      "execution_count": 9,
      "metadata": {
        "id": "vZ77jS-zfrMN"
      },
      "outputs": [],
      "source": [
        "#function to categorise the sentece based on the feature\n",
        "def Split_shipping(a):\n",
        "  out=\" \"\n",
        "  for st in a.split(\".\"):\n",
        "    if(re.search(\"delivery|shipping\", st , flags=re.IGNORECASE)):\n",
        "      out=out+st\n",
        "  if out==\" \":\n",
        "    return 0\n",
        "  else:\n",
        "    return out\n",
        "def Split_seller(a):\n",
        "  out=\" \"\n",
        "  for st in a.split(\".\"):\n",
        "    if(re.search(\"seller\", st , flags=re.IGNORECASE)):\n",
        "      out=out+st\n",
        "  if out==\" \":\n",
        "    return 0\n",
        "  else:\n",
        "    return out\n",
        "def Split_market_place(a):\n",
        "  out=\" \"\n",
        "  for st in a.split(\".\"):\n",
        "    if(re.search(\"market place|marketplace|website\", st , flags=re.IGNORECASE)):\n",
        "      out=out+st\n",
        "  if out==\" \":\n",
        "    return 0\n",
        "  else:\n",
        "    return out\n",
        "def Split_product(a):\n",
        "  out=\" \"\n",
        "  for st in a.split(\".\"):\n",
        "    if not (re.search(\"delivery|shipping|seller|market place|marketplace|website\", st , flags=re.IGNORECASE)):\n",
        "      out=out+st\n",
        "\n",
        "  return out"
      ]
    },
    {
      "cell_type": "code",
      "execution_count": 10,
      "metadata": {
        "id": "_3UIp8EmfsOV"
      },
      "outputs": [],
      "source": [
        "\n",
        "df['split_ship'] = df['body'].apply(lambda x:Split_shipping(x))\n",
        "df['split_seller'] = df['body'].apply(lambda x:Split_seller(x))\n",
        "df['split_market'] = df['body'].apply(lambda x:Split_market_place(x))\n",
        "df['split_product'] = df['body'].apply(lambda x:Split_product(x))"
      ]
    },
    {
      "cell_type": "code",
      "execution_count": 11,
      "metadata": {
        "colab": {
          "base_uri": "https://localhost:8080/",
          "height": 511
        },
        "id": "Hnu8aLorlH_o",
        "outputId": "13350803-06db-4176-a58a-8e4b9cd7f3a3"
      },
      "outputs": [
        {
          "data": {
            "text/html": [
              "<div>\n",
              "<style scoped>\n",
              "    .dataframe tbody tr th:only-of-type {\n",
              "        vertical-align: middle;\n",
              "    }\n",
              "\n",
              "    .dataframe tbody tr th {\n",
              "        vertical-align: top;\n",
              "    }\n",
              "\n",
              "    .dataframe thead th {\n",
              "        text-align: right;\n",
              "    }\n",
              "</style>\n",
              "<table border=\"1\" class=\"dataframe\">\n",
              "  <thead>\n",
              "    <tr style=\"text-align: right;\">\n",
              "      <th></th>\n",
              "      <th>title</th>\n",
              "      <th>body</th>\n",
              "      <th>rating_item</th>\n",
              "      <th>rating_delivery</th>\n",
              "      <th>rating_seller</th>\n",
              "      <th>rating_marketplace</th>\n",
              "      <th>rating_total</th>\n",
              "      <th>split_ship</th>\n",
              "      <th>split_seller</th>\n",
              "      <th>split_market</th>\n",
              "      <th>split_product</th>\n",
              "    </tr>\n",
              "  </thead>\n",
              "  <tbody>\n",
              "    <tr>\n",
              "      <th>0</th>\n",
              "      <td>\"Efficient yet lackluster shopping experience\"</td>\n",
              "      <td>\"Efficient yet lackluster shopping experience\"...</td>\n",
              "      <td>4</td>\n",
              "      <td>2</td>\n",
              "      <td>4</td>\n",
              "      <td>2</td>\n",
              "      <td>3</td>\n",
              "      <td>\"Efficient yet lackluster shopping experience...</td>\n",
              "      <td>\"Efficient yet lackluster shopping experience...</td>\n",
              "      <td>\"Efficient yet lackluster shopping experience...</td>\n",
              "      <td>Overall, while there were some shortcomings,...</td>\n",
              "    </tr>\n",
              "    <tr>\n",
              "      <th>1</th>\n",
              "      <td>\"Dependable Mobile, nothing too special.\"</td>\n",
              "      <td>\"Dependable Mobile, nothing too special.\"I pur...</td>\n",
              "      <td>1</td>\n",
              "      <td>4</td>\n",
              "      <td>2</td>\n",
              "      <td>4</td>\n",
              "      <td>3</td>\n",
              "      <td>\"I purchased this mobile phone online and rec...</td>\n",
              "      <td>Even though the product is okay, packaging w...</td>\n",
              "      <td>The online marketplace had numerous offering...</td>\n",
              "      <td>\"Dependable Mobile, nothing too special It me...</td>\n",
              "    </tr>\n",
              "    <tr>\n",
              "      <th>2</th>\n",
              "      <td>\"Great Purchase Experience for Mobile Phone\"</td>\n",
              "      <td>\"Great Purchase Experience for Mobile Phone\"I ...</td>\n",
              "      <td>1</td>\n",
              "      <td>4</td>\n",
              "      <td>4</td>\n",
              "      <td>4</td>\n",
              "      <td>4</td>\n",
              "      <td>The delivery was timely and smooth</td>\n",
              "      <td>\"Great Purchase Experience for Mobile Phone\"I...</td>\n",
              "      <td>I am also happy with the marketplace where ...</td>\n",
              "      <td>The mobile phone, itself, functions well an...</td>\n",
              "    </tr>\n",
              "    <tr>\n",
              "      <th>3</th>\n",
              "      <td>A Satisfactory Purchase</td>\n",
              "      <td>A Satisfactory PurchaseI recently acquired a m...</td>\n",
              "      <td>4</td>\n",
              "      <td>5</td>\n",
              "      <td>5</td>\n",
              "      <td>2</td>\n",
              "      <td>4</td>\n",
              "      <td>0</td>\n",
              "      <td>The seller provided excellent service and re...</td>\n",
              "      <td>The only downside to the transaction was th...</td>\n",
              "      <td>A Satisfactory PurchaseI recently acquired a ...</td>\n",
              "    </tr>\n",
              "    <tr>\n",
              "      <th>4</th>\n",
              "      <td>\"Great Mobile Phone - Disappointing Delivery a...</td>\n",
              "      <td>\"Great Mobile Phone - Disappointing Delivery a...</td>\n",
              "      <td>4</td>\n",
              "      <td>1</td>\n",
              "      <td>1</td>\n",
              "      <td>4</td>\n",
              "      <td>3</td>\n",
              "      <td>\"Great Mobile Phone - Disappointing Delivery ...</td>\n",
              "      <td>\"Great Mobile Phone - Disappointing Delivery ...</td>\n",
              "      <td>However, the marketplace itself was decent, ...</td>\n",
              "      <td>The phone itself is excellent, and it functi...</td>\n",
              "    </tr>\n",
              "  </tbody>\n",
              "</table>\n",
              "</div>"
            ],
            "text/plain": [
              "                                               title  \\\n",
              "0     \"Efficient yet lackluster shopping experience\"   \n",
              "1          \"Dependable Mobile, nothing too special.\"   \n",
              "2       \"Great Purchase Experience for Mobile Phone\"   \n",
              "3                            A Satisfactory Purchase   \n",
              "4  \"Great Mobile Phone - Disappointing Delivery a...   \n",
              "\n",
              "                                                body  rating_item  \\\n",
              "0  \"Efficient yet lackluster shopping experience\"...            4   \n",
              "1  \"Dependable Mobile, nothing too special.\"I pur...            1   \n",
              "2  \"Great Purchase Experience for Mobile Phone\"I ...            1   \n",
              "3  A Satisfactory PurchaseI recently acquired a m...            4   \n",
              "4  \"Great Mobile Phone - Disappointing Delivery a...            4   \n",
              "\n",
              "   rating_delivery  rating_seller  rating_marketplace  rating_total  \\\n",
              "0                2              4                   2             3   \n",
              "1                4              2                   4             3   \n",
              "2                4              4                   4             4   \n",
              "3                5              5                   2             4   \n",
              "4                1              1                   4             3   \n",
              "\n",
              "                                          split_ship  \\\n",
              "0   \"Efficient yet lackluster shopping experience...   \n",
              "1   \"I purchased this mobile phone online and rec...   \n",
              "2                 The delivery was timely and smooth   \n",
              "3                                                  0   \n",
              "4   \"Great Mobile Phone - Disappointing Delivery ...   \n",
              "\n",
              "                                        split_seller  \\\n",
              "0   \"Efficient yet lackluster shopping experience...   \n",
              "1    Even though the product is okay, packaging w...   \n",
              "2   \"Great Purchase Experience for Mobile Phone\"I...   \n",
              "3    The seller provided excellent service and re...   \n",
              "4   \"Great Mobile Phone - Disappointing Delivery ...   \n",
              "\n",
              "                                        split_market  \\\n",
              "0   \"Efficient yet lackluster shopping experience...   \n",
              "1    The online marketplace had numerous offering...   \n",
              "2     I am also happy with the marketplace where ...   \n",
              "3     The only downside to the transaction was th...   \n",
              "4    However, the marketplace itself was decent, ...   \n",
              "\n",
              "                                       split_product  \n",
              "0    Overall, while there were some shortcomings,...  \n",
              "1   \"Dependable Mobile, nothing too special It me...  \n",
              "2     The mobile phone, itself, functions well an...  \n",
              "3   A Satisfactory PurchaseI recently acquired a ...  \n",
              "4    The phone itself is excellent, and it functi...  "
            ]
          },
          "execution_count": 11,
          "metadata": {},
          "output_type": "execute_result"
        }
      ],
      "source": [
        "df.head()"
      ]
    },
    {
      "cell_type": "code",
      "execution_count": null,
      "metadata": {
        "id": "v16Efh7Mk178"
      },
      "outputs": [],
      "source": [
        "df.to_csv(\"reviews_final_split.csv\")"
      ]
    }
  ],
  "metadata": {
    "colab": {
      "provenance": []
    },
    "kernelspec": {
      "display_name": "Python 3",
      "name": "python3"
    },
    "language_info": {
      "codemirror_mode": {
        "name": "ipython",
        "version": 3
      },
      "file_extension": ".py",
      "mimetype": "text/x-python",
      "name": "python",
      "nbconvert_exporter": "python",
      "pygments_lexer": "ipython3",
      "version": "3.11.0"
    }
  },
  "nbformat": 4,
  "nbformat_minor": 0
}
