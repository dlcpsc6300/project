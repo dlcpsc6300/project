{
 "cells": [
  {
   "attachments": {},
   "cell_type": "markdown",
   "metadata": {},
   "source": [
    "As we need to have multi-aspect reviews and the ones we have contain mostly only one aspect, we need to generate such reviews. As we don't want to create a model based only on artificial reviews and as we need to have a balanced data set, we need to set setup a distribution among multi-aspects and single-aspect reviews.\n",
    "Considering that we need at least 1000 reviews for the model training and the fact that we want to have a decent number of each reviews type represented, the next distribution will be used:\n",
    "- for single-aspect reviews (4 types) = 1000 items\n",
    "    - each review type = 250 items\n",
    "- for multi-aspect reviews = 1000 items\n",
    "    - each type of reviews is missing = 250 items\n",
    "- for multi-aspect reviews (all types are presented) = 1000 items\n",
    "\n",
    "In sum - 3000 items.\n",
    "\n",
    "For each subset there will be equal distribution (provided by randomization and hope) among rates from 1 to 5."
   ]
  },
  {
   "cell_type": "code",
   "execution_count": 13,
   "metadata": {},
   "outputs": [],
   "source": [
    "# imports\n",
    "\n",
    "import os\n",
    "import random as rnd\n",
    "import time\n",
    "import tqdm\n",
    "import csv\n",
    "from jinja2 import Environment, FileSystemLoader\n",
    "import openai\n",
    "from tenacity import (\n",
    "    retry,\n",
    "    before_sleep_log,\n",
    "    wait_random_exponential,\n",
    ")\n",
    "import sys\n",
    "import logging\n",
    "import timeout_decorator\n",
    "import re"
   ]
  },
  {
   "cell_type": "code",
   "execution_count": 3,
   "metadata": {},
   "outputs": [],
   "source": [
    "# config\n",
    "\n",
    "openai.organization = os.getenv('OPENAI_ORGANIZATION')\n",
    "openai.api_key = os.getenv('OPENAI_API_KEY')\n",
    "\n",
    "model_name = 'gpt-3.5-turbo'\n",
    "# model_name = 'text-davinci-003'\n",
    "model_temperature = 1.2\n",
    "\n",
    "review_size_max = 200\n",
    "\n",
    "logging.basicConfig(stream=sys.stderr, level=logging.DEBUG)\n",
    "logger = logging.getLogger(__name__)"
   ]
  },
  {
   "cell_type": "code",
   "execution_count": 4,
   "metadata": {},
   "outputs": [],
   "source": [
    "# bricks\n",
    "\n",
    "aspect_size = 250\n",
    "\n",
    "customer_type = ['polite', 'cheeky', 'blunt', 'highly educated', 'rustic']\n",
    "customer_mood = ['bad', 'good', 'neutral']\n",
    "review_item = ['headphones', 'dress', 'wallet', 'mobile phone']\n",
    "review_aspect = ['item', 'delivery', 'seller', 'marketplace']"
   ]
  },
  {
   "cell_type": "code",
   "execution_count": 5,
   "metadata": {},
   "outputs": [],
   "source": [
    "# prepare functions\n",
    "\n",
    "def create_prompt(ctype, cmood, ritem, raspects, rsize):\n",
    "    ss = {\n",
    "        'ctype': ctype,\n",
    "        'cmood': cmood,\n",
    "        'ritem': ritem,\n",
    "        'raspects': raspects,\n",
    "        'rsize': rsize\n",
    "    }\n",
    "    env = Environment(loader=FileSystemLoader('template'))\n",
    "    template = env.get_template('review.txt')\n",
    "    return template.render(ss)\n",
    "\n",
    "def get_review(mname, ctype, cmood, ritem, raspects, rsize):\n",
    "    prompt = create_prompt(ctype=ctype, cmood=cmood, ritem=ritem, raspects=raspects, rsize=rsize)\n",
    "    return openai.ChatCompletion.create(model=mname, messages=[{'role': 'user', 'content': prompt}], max_tokens=int(rsize * 1.5), temperature=model_temperature)"
   ]
  },
  {
   "cell_type": "code",
   "execution_count": 6,
   "metadata": {},
   "outputs": [],
   "source": [
    "# generate contexts\n",
    "\n",
    "contexts = []\n",
    "\n",
    "def create_context(raspects):\n",
    "    return {\n",
    "            'ctype': rnd.choice(customer_type),\n",
    "            'cmood': rnd.choice(customer_mood),\n",
    "            'ritem': rnd.choice(review_item),\n",
    "            'raspects': raspects,\n",
    "            'rsize': review_size_max\n",
    "        }\n",
    "\n",
    "for aspect in review_aspect:\n",
    "    filtered = [a for a in review_aspect if a != aspect]\n",
    "    for i in range(1, 251):\n",
    "        contexts.append(create_context(raspects=[{'name': aspect,'grade': rnd.randint(1, 5)}]))\n",
    "        contexts.append(create_context(raspects=[{'name': a, 'grade': rnd.randint(1, 5)} for a in filtered]))\n",
    "\n",
    "for i in range(1, 1001):\n",
    "    contexts.append(create_context(raspects=[{'name': a, 'grade': rnd.randint(1, 5)} for a in review_aspect]))\n",
    "\n",
    "rnd.shuffle(contexts)"
   ]
  },
  {
   "cell_type": "code",
   "execution_count": 43,
   "metadata": {},
   "outputs": [
    {
     "name": "stderr",
     "output_type": "stream",
     "text": [
      "  0%|          | 0/1 [00:00<?, ?it/s]DEBUG:openai:message='Request to OpenAI API' method=post path=https://api.openai.com/v1/chat/completions\n",
      "DEBUG:openai:api_version=None data='{\"model\": \"gpt-3.5-turbo\", \"messages\": [{\"role\": \"user\", \"content\": \"You are a blunt customer that is in bad mood and that writes a review for a wallet that you bought on a marketplace (and you shouldn\\'t mention that you bought it on a marketplace directly).\\\\nThe review should include the next aspects of the purchase:\\\\n\\\\n    - delivery, on the scale of 5 you are satisfied by 5 (it shouldn\\'t be in the review)\\\\n\\\\n    - seller, on the scale of 5 you are satisfied by 5 (it shouldn\\'t be in the review)\\\\n\\\\n    - marketplace, on the scale of 5 you are satisfied by 4 (it shouldn\\'t be in the review)\\\\n\\\\nThese grades should not be included into the review, but the corresponding aspects and how you are happy or unhappy about them should be described or, at least, mentioned. For any aspects that is not graded as 5 in this prompt the cons should be mentioned. The length if the review should be random from 1 to 200 words. The aspects can be represented by different number of words and the focus can be on different aspects.\\\\nYou should not put ratings into the review. You should not put ratings into the review. You should not put ratings into the review.\\\\nBased on the aspects you should calculate overall rating that is an integer number from 1 to 5, and put it to the very end of review in the format \\\\\"Total rating: [rating]\\\\\".\\\\nThe first line of the review should be a title of it.\\\\nWrite it.\"}], \"max_tokens\": 300, \"temperature\": 1.2}' message='Post details'\n",
      "DEBUG:urllib3.connectionpool:https://api.openai.com:443 \"POST /v1/chat/completions HTTP/1.1\" 200 789\n",
      "DEBUG:openai:message='OpenAI API response' path=https://api.openai.com/v1/chat/completions processing_ms=4957 request_id=48523e064474e1b19d96bb672344b9bd response_code=200\n",
      "100%|██████████| 1/1 [00:08<00:00,  8.12s/it]\n"
     ]
    }
   ],
   "source": [
    "# generate reviews\n",
    "\n",
    "reviews = []\n",
    "\n",
    "@retry(wait=wait_random_exponential(min=1, max=30), before_sleep=before_sleep_log(logger, logging.DEBUG))\n",
    "@timeout_decorator.timeout(60)\n",
    "def create_review(ctx):\n",
    "    return get_review(mname=model_name, ctype=ctx['ctype'], cmood=ctx['cmood'], ritem=ctx['ritem'], raspects=ctx['raspects'], rsize=ctx['rsize'])\n",
    "\n",
    "for ctx in tqdm.tqdm(contexts):\n",
    "    review = create_review(ctx)\n",
    "\n",
    "    text = review['choices'][0]['message']['content']\n",
    "    # text = text.replace('\\n', ' ')\n",
    "\n",
    "    title = re.findall('\\\\n\\\\n(.*)\\\\n\\\\n', text)[0]\n",
    "    rating_total = re.search('.*Total rating: (\\d+).*', text).group(1)\n",
    "    body = text.replace(title, '', 1).replace('\\n', ' ').strip().replace(re.search('.*(Total rating: \\d+).*', text).group(1), '')\n",
    "    \n",
    "    reviews.append({\n",
    "        'title': title,\n",
    "        'body': body,\n",
    "        'rating': {it['name']: it['grade'] for it in ctx['raspects']}\n",
    "    })\n",
    "    reviews[len(reviews) - 1]['rating']['total'] = int(rating_total)\n",
    "    time.sleep(3)"
   ]
  },
  {
   "cell_type": "code",
   "execution_count": 44,
   "metadata": {},
   "outputs": [
    {
     "name": "stdout",
     "output_type": "stream",
     "text": [
      "[{'title': 'Do not buy this wallet!', 'body': \"I ordered this wallet and it took forever to arrive. However, the seller was great and very responsive. But what's the point of being responsive when you have a poor-quality product? The wallet is flimsy and feels like it will fall apart any minute. It's not worth the price, even if the seller was great. I'm not too happy with the online marketplace where I did the purchase, the search filters were not clear and gave me too many irrelevant options. \", 'rating': {'delivery': 5, 'seller': 5, 'marketplace': 4, 'total': 2}}]\n"
     ]
    }
   ],
   "source": [
    "print(reviews)"
   ]
  },
  {
   "cell_type": "code",
   "execution_count": 50,
   "metadata": {},
   "outputs": [
    {
     "name": "stderr",
     "output_type": "stream",
     "text": [
      "100%|██████████| 1/1 [00:00<00:00, 3905.31it/s]\n"
     ]
    }
   ],
   "source": [
    "# write reviews\n",
    "\n",
    "with open('data/reviews.csv', 'w', newline='') as f:\n",
    "    headers = ['title', 'body', 'rating_item', 'rating_delivery', 'rating_seller', 'rating_marketplace', 'rating_total']\n",
    "    writer = csv.DictWriter(f, fieldnames=headers, delimiter=',', quoting=csv.QUOTE_NONNUMERIC)\n",
    "    writer.writeheader()\n",
    "    for r in tqdm.tqdm(reviews):\n",
    "        writer.writerow({\n",
    "            'title': r['title'],\n",
    "            'body': r['body'],\n",
    "            'rating_item': r['rating'].get('item'),\n",
    "            'rating_delivery': r['rating'].get('delivery'),\n",
    "            'rating_seller': r['rating'].get('seller'),\n",
    "            'rating_marketplace': r['rating'].get('marketplace'),\n",
    "            'rating_total': r['rating'].get('total')\n",
    "        })"
   ]
  }
 ],
 "metadata": {
  "kernelspec": {
   "display_name": "adsp",
   "language": "python",
   "name": "python3"
  },
  "language_info": {
   "codemirror_mode": {
    "name": "ipython",
    "version": 3
   },
   "file_extension": ".py",
   "mimetype": "text/x-python",
   "name": "python",
   "nbconvert_exporter": "python",
   "pygments_lexer": "ipython3",
   "version": "3.11.0"
  },
  "orig_nbformat": 4
 },
 "nbformat": 4,
 "nbformat_minor": 2
}
