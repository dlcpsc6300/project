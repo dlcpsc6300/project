{
 "cells": [
  {
   "cell_type": "code",
   "execution_count": 1,
   "metadata": {},
   "outputs": [],
   "source": [
    "# imports\n",
    "\n",
    "import csv\n",
    "import re\n",
    "import unicodedata\n",
    "import emoji\n",
    "import contractions\n",
    "from textblob import TextBlob\n",
    "import tqdm"
   ]
  },
  {
   "cell_type": "code",
   "execution_count": 2,
   "metadata": {},
   "outputs": [
    {
     "name": "stderr",
     "output_type": "stream",
     "text": [
      "100%|██████████| 1200/1200 [26:16<00:00,  1.31s/it]\n",
      "100%|██████████| 1200/1200 [00:00<00:00, 14571.78it/s]\n"
     ]
    }
   ],
   "source": [
    "# cleaning\n",
    "\n",
    "def remove_html(str):\n",
    "    return re.sub('<.*?>', '', str)\n",
    "\n",
    "def remove_email(str):\n",
    "    return re.sub(r'[\\w\\.-]+@[\\w\\.-]+', '', str)\n",
    "\n",
    "def remove_url(str):\n",
    "    return re.sub(r'http\\S+', '', str)\n",
    "\n",
    "def replace_accented(str):\n",
    "    return unicodedata.normalize('NFKD', str).encode('ascii', 'ignore').decode('utf-8', 'ignore')\n",
    "\n",
    "def remove_wording(str):\n",
    "    return str.replace('Title:', '')\n",
    "\n",
    "def remove_emoji(str):\n",
    "    return re.sub(':.*?:', '', emoji.demojize(str))\n",
    "\n",
    "def remove_symbols(str):\n",
    "    return str.replace('\\\\', '').replace(' .', '').replace('\\u200b', ' ').replace('\"', '')\n",
    "\n",
    "def remove_spaces(str):\n",
    "    return ' '.join(str.split())\n",
    "\n",
    "def remove_contractions(str):\n",
    "    return contractions.fix(str)\n",
    "\n",
    "def fix_grammar(str):\n",
    "    return TextBlob(str).correct()\n",
    "\n",
    "def clean(str):\n",
    "    str = remove_html(str)\n",
    "    str = remove_email(str)\n",
    "    str = remove_url(str)\n",
    "    str = replace_accented(str)\n",
    "    str = remove_wording(str)\n",
    "    str = remove_emoji(str)\n",
    "    str = remove_symbols(str)\n",
    "    str = remove_spaces(str)\n",
    "    str = remove_contractions(str)\n",
    "    str = fix_grammar(str)\n",
    "    return str\n",
    "\n",
    "with open('data/reviews_simple_raw.csv', 'r', newline='') as f:\n",
    "    reader = csv.DictReader(f)\n",
    "    raw = list(reader)\n",
    "    for row in tqdm.tqdm(raw):\n",
    "       row['title'] = clean(row['title'])\n",
    "       row['body'] = clean(row['body'])\n",
    "    with open('data/reviews_simple_cleaned.csv', 'w', newline='') as f:\n",
    "        headers = ['title', 'body', 'rating_item', 'rating_delivery', 'rating_seller', 'rating_marketplace', 'rating_total']\n",
    "        writer = csv.DictWriter(f, fieldnames=headers, delimiter=',', quoting=csv.QUOTE_NONNUMERIC)\n",
    "        writer.writeheader()\n",
    "        for row in tqdm.tqdm(raw):\n",
    "            writer.writerow({\n",
    "                'title': row['title'],\n",
    "                'body': row['body'],\n",
    "                'rating_item': row['rating_item'],\n",
    "                'rating_delivery': row['rating_delivery'],\n",
    "                'rating_seller': row['rating_seller'],\n",
    "                'rating_marketplace': row['rating_marketplace'],\n",
    "                'rating_total': row['rating_total']\n",
    "            })"
   ]
  }
 ],
 "metadata": {
  "kernelspec": {
   "display_name": "adsp",
   "language": "python",
   "name": "python3"
  },
  "language_info": {
   "codemirror_mode": {
    "name": "ipython",
    "version": 3
   },
   "file_extension": ".py",
   "mimetype": "text/x-python",
   "name": "python",
   "nbconvert_exporter": "python",
   "pygments_lexer": "ipython3",
   "version": "3.11.0"
  },
  "orig_nbformat": 4
 },
 "nbformat": 4,
 "nbformat_minor": 2
}
