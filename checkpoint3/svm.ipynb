{
 "cells": [
  {
   "cell_type": "code",
   "execution_count": 1,
   "metadata": {},
   "outputs": [
    {
     "name": "stdout",
     "output_type": "stream",
     "text": [
      "Requirement already satisfied: emoji in /Users/dmitry/.conda/envs/adsp/lib/python3.11/site-packages (2.2.0)\n",
      "Requirement already satisfied: contractions in /Users/dmitry/.conda/envs/adsp/lib/python3.11/site-packages (0.1.73)\n",
      "Requirement already satisfied: textsearch>=0.0.21 in /Users/dmitry/.conda/envs/adsp/lib/python3.11/site-packages (from contractions) (0.0.24)\n",
      "Requirement already satisfied: anyascii in /Users/dmitry/.conda/envs/adsp/lib/python3.11/site-packages (from textsearch>=0.0.21->contractions) (0.3.2)\n",
      "Requirement already satisfied: pyahocorasick in /Users/dmitry/.conda/envs/adsp/lib/python3.11/site-packages (from textsearch>=0.0.21->contractions) (2.0.0)\n"
     ]
    },
    {
     "name": "stderr",
     "output_type": "stream",
     "text": [
      "[nltk_data] Downloading package stopwords to\n",
      "[nltk_data]     /Users/dmitry/nltk_data...\n",
      "[nltk_data]   Unzipping corpora/stopwords.zip.\n",
      "[nltk_data] Downloading package wordnet to /Users/dmitry/nltk_data...\n",
      "[nltk_data] Downloading package punkt to /Users/dmitry/nltk_data...\n",
      "[nltk_data]   Unzipping tokenizers/punkt.zip.\n"
     ]
    },
    {
     "name": "stdout",
     "output_type": "stream",
     "text": [
      "Requirement already satisfied: openai in /Users/dmitry/.conda/envs/adsp/lib/python3.11/site-packages (0.27.2)\n",
      "Requirement already satisfied: requests>=2.20 in /Users/dmitry/.conda/envs/adsp/lib/python3.11/site-packages (from openai) (2.28.2)\n",
      "Requirement already satisfied: tqdm in /Users/dmitry/.conda/envs/adsp/lib/python3.11/site-packages (from openai) (4.64.1)\n",
      "Requirement already satisfied: aiohttp in /Users/dmitry/.conda/envs/adsp/lib/python3.11/site-packages (from openai) (3.8.4)\n",
      "Requirement already satisfied: charset-normalizer<4,>=2 in /Users/dmitry/.conda/envs/adsp/lib/python3.11/site-packages (from requests>=2.20->openai) (2.1.1)\n",
      "Requirement already satisfied: idna<4,>=2.5 in /Users/dmitry/.conda/envs/adsp/lib/python3.11/site-packages (from requests>=2.20->openai) (3.4)\n",
      "Requirement already satisfied: urllib3<1.27,>=1.21.1 in /Users/dmitry/.conda/envs/adsp/lib/python3.11/site-packages (from requests>=2.20->openai) (1.26.14)\n",
      "Requirement already satisfied: certifi>=2017.4.17 in /Users/dmitry/.conda/envs/adsp/lib/python3.11/site-packages (from requests>=2.20->openai) (2022.12.7)\n",
      "Requirement already satisfied: attrs>=17.3.0 in /Users/dmitry/.conda/envs/adsp/lib/python3.11/site-packages (from aiohttp->openai) (22.2.0)\n",
      "Requirement already satisfied: multidict<7.0,>=4.5 in /Users/dmitry/.conda/envs/adsp/lib/python3.11/site-packages (from aiohttp->openai) (6.0.4)\n",
      "Requirement already satisfied: async-timeout<5.0,>=4.0.0a3 in /Users/dmitry/.conda/envs/adsp/lib/python3.11/site-packages (from aiohttp->openai) (4.0.2)\n",
      "Requirement already satisfied: yarl<2.0,>=1.0 in /Users/dmitry/.conda/envs/adsp/lib/python3.11/site-packages (from aiohttp->openai) (1.8.2)\n",
      "Requirement already satisfied: frozenlist>=1.1.1 in /Users/dmitry/.conda/envs/adsp/lib/python3.11/site-packages (from aiohttp->openai) (1.3.3)\n",
      "Requirement already satisfied: aiosignal>=1.1.2 in /Users/dmitry/.conda/envs/adsp/lib/python3.11/site-packages (from aiohttp->openai) (1.3.1)\n",
      "Requirement already satisfied: timeout_decorator in /Users/dmitry/.conda/envs/adsp/lib/python3.11/site-packages (0.5.0)\n",
      "Requirement already satisfied: mlxtend in /Users/dmitry/.conda/envs/adsp/lib/python3.11/site-packages (0.21.0)\n",
      "Requirement already satisfied: scipy>=1.2.1 in /Users/dmitry/.conda/envs/adsp/lib/python3.11/site-packages (from mlxtend) (1.10.1)\n",
      "Requirement already satisfied: numpy>=1.16.2 in /Users/dmitry/.conda/envs/adsp/lib/python3.11/site-packages (from mlxtend) (1.23.5)\n",
      "Requirement already satisfied: pandas>=0.24.2 in /Users/dmitry/.conda/envs/adsp/lib/python3.11/site-packages (from mlxtend) (1.5.3)\n",
      "Requirement already satisfied: scikit-learn>=1.0.2 in /Users/dmitry/.conda/envs/adsp/lib/python3.11/site-packages (from mlxtend) (1.2.2)\n",
      "Requirement already satisfied: matplotlib>=3.0.0 in /Users/dmitry/.conda/envs/adsp/lib/python3.11/site-packages (from mlxtend) (3.7.1)\n",
      "Requirement already satisfied: joblib>=0.13.2 in /Users/dmitry/.conda/envs/adsp/lib/python3.11/site-packages (from mlxtend) (1.2.0)\n",
      "Requirement already satisfied: setuptools in /Users/dmitry/.conda/envs/adsp/lib/python3.11/site-packages (from mlxtend) (67.3.2)\n",
      "Requirement already satisfied: contourpy>=1.0.1 in /Users/dmitry/.conda/envs/adsp/lib/python3.11/site-packages (from matplotlib>=3.0.0->mlxtend) (1.0.7)\n",
      "Requirement already satisfied: cycler>=0.10 in /Users/dmitry/.conda/envs/adsp/lib/python3.11/site-packages (from matplotlib>=3.0.0->mlxtend) (0.11.0)\n",
      "Requirement already satisfied: fonttools>=4.22.0 in /Users/dmitry/.conda/envs/adsp/lib/python3.11/site-packages (from matplotlib>=3.0.0->mlxtend) (4.39.2)\n",
      "Requirement already satisfied: kiwisolver>=1.0.1 in /Users/dmitry/.conda/envs/adsp/lib/python3.11/site-packages (from matplotlib>=3.0.0->mlxtend) (1.4.4)\n",
      "Requirement already satisfied: packaging>=20.0 in /Users/dmitry/.conda/envs/adsp/lib/python3.11/site-packages (from matplotlib>=3.0.0->mlxtend) (23.0)\n",
      "Requirement already satisfied: pillow>=6.2.0 in /Users/dmitry/.conda/envs/adsp/lib/python3.11/site-packages (from matplotlib>=3.0.0->mlxtend) (9.4.0)\n",
      "Requirement already satisfied: pyparsing>=2.3.1 in /Users/dmitry/.conda/envs/adsp/lib/python3.11/site-packages (from matplotlib>=3.0.0->mlxtend) (3.0.9)\n",
      "Requirement already satisfied: python-dateutil>=2.7 in /Users/dmitry/.conda/envs/adsp/lib/python3.11/site-packages (from matplotlib>=3.0.0->mlxtend) (2.8.2)\n",
      "Requirement already satisfied: pytz>=2020.1 in /Users/dmitry/.conda/envs/adsp/lib/python3.11/site-packages (from pandas>=0.24.2->mlxtend) (2022.7.1)\n",
      "Requirement already satisfied: threadpoolctl>=2.0.0 in /Users/dmitry/.conda/envs/adsp/lib/python3.11/site-packages (from scikit-learn>=1.0.2->mlxtend) (3.1.0)\n",
      "Requirement already satisfied: six>=1.5 in /Users/dmitry/.conda/envs/adsp/lib/python3.11/site-packages (from python-dateutil>=2.7->matplotlib>=3.0.0->mlxtend) (1.16.0)\n"
     ]
    }
   ],
   "source": [
    "# imports\n",
    "\n",
    "import os\n",
    "import random as rnd\n",
    "import time\n",
    "import tqdm\n",
    "import csv\n",
    "import re\n",
    "import unicodedata\n",
    "!pip3 install emoji\n",
    "import emoji\n",
    "!pip3 install contractions\n",
    "import contractions\n",
    "from textblob import TextBlob\n",
    "import tqdm\n",
    "import string\n",
    "import nltk\n",
    "nltk.download('stopwords')\n",
    "from nltk.stem import WordNetLemmatizer\n",
    "nltk.download('wordnet')\n",
    "nltk.download('punkt')\n",
    "from jinja2 import Environment, FileSystemLoader\n",
    "!pip3 install openai\n",
    "import openai\n",
    "from tenacity import (\n",
    "    retry,\n",
    "    before_sleep_log,\n",
    "    wait_random_exponential,\n",
    ")\n",
    "import sys\n",
    "import logging\n",
    "!pip3 install timeout_decorator\n",
    "import timeout_decorator\n",
    "import pandas as pd\n",
    "from sklearn.model_selection import train_test_split\n",
    "from sklearn.feature_extraction.text import TfidfVectorizer\n",
    "from sklearn.multioutput import MultiOutputClassifier\n",
    "from sklearn.svm import SVC\n",
    "from sklearn.model_selection import RepeatedKFold, RandomizedSearchCV\n",
    "from sklearn.metrics import classification_report, confusion_matrix, ConfusionMatrixDisplay\n",
    "import statistics\n",
    "import six\n",
    "sys.modules['sklearn.externals.six'] = six\n",
    "!pip3 install mlxtend\n",
    "from mlxtend.classifier import EnsembleVoteClassifier\n",
    "import matplotlib.pyplot as plt\n",
    "import pickle\n",
    "\n",
    "import warnings\n",
    "from sklearn.exceptions import DataConversionWarning\n",
    "warnings.filterwarnings(action='ignore', category=DataConversionWarning)"
   ]
  },
  {
   "attachments": {},
   "cell_type": "markdown",
   "metadata": {},
   "source": [
    "After reviews are generated, we need to clean them."
   ]
  },
  {
   "cell_type": "code",
   "execution_count": 54,
   "metadata": {},
   "outputs": [],
   "source": [
    "# cleaning\n",
    "\n",
    "def remove_html(str):\n",
    "    return re.sub('<.*?>', '', str)\n",
    "\n",
    "def remove_email(str):\n",
    "    return re.sub(r'[\\w\\.-]+@[\\w\\.-]+', '', str)\n",
    "\n",
    "def remove_url(str):\n",
    "    return re.sub(r'http\\S+', '', str)\n",
    "\n",
    "def replace_accented(str):\n",
    "    return unicodedata.normalize('NFKD', str).encode('ascii', 'ignore').decode('utf-8', 'ignore')\n",
    "\n",
    "def remove_wording(str):\n",
    "    return str.replace('Title:', '')\n",
    "\n",
    "def remove_emoji(str):\n",
    "    return re.sub(':.*?:', '', emoji.demojize(str))\n",
    "\n",
    "def remove_symbols(str):\n",
    "    return str.replace('\\\\', '').replace(' .', '').replace('\\u200b', ' ').replace('\"', '')\n",
    "\n",
    "def remove_spaces(str):\n",
    "    return ' '.join(str.split())\n",
    "\n",
    "def remove_contractions(str):\n",
    "    return contractions.fix(str)\n",
    "\n",
    "def fix_grammar(str):\n",
    "    return TextBlob(str).correct()\n",
    "\n",
    "def clean(str):\n",
    "    if type(str) != str:\n",
    "        return str\n",
    "    str = remove_html(str)\n",
    "    str = remove_email(str)\n",
    "    str = remove_url(str)\n",
    "    str = replace_accented(str)\n",
    "    str = remove_wording(str)\n",
    "    str = remove_emoji(str)\n",
    "    str = remove_symbols(str)\n",
    "    str = remove_spaces(str)\n",
    "    str = remove_contractions(str)\n",
    "    str = fix_grammar(str)\n",
    "    return str"
   ]
  },
  {
   "attachments": {},
   "cell_type": "markdown",
   "metadata": {},
   "source": [
    "Also, some preprocessing is required."
   ]
  },
  {
   "cell_type": "code",
   "execution_count": 55,
   "metadata": {},
   "outputs": [],
   "source": [
    "# preprocessing\n",
    "\n",
    "def lower(str):\n",
    "    return str.lower() if type(str) == str else str\n",
    "\n",
    "def lemmatize(str):\n",
    "    if type(str) != str:\n",
    "        return str\n",
    "    lemmatizer = WordNetLemmatizer()\n",
    "    tokens = nltk.word_tokenize(str)\n",
    "    return' '.join([lemmatizer.lemmatize(token) for token in tokens])\n",
    "\n",
    "def remove_punctuation(str):\n",
    "    if type(str) != str:\n",
    "        return str\n",
    "    return ''.join([w for w in str if w not in string.punctuation])\n",
    "\n",
    "def remove_stopwords(str):\n",
    "    if type(str) != str:\n",
    "        return str\n",
    "    stop_words = set(nltk.corpus.stopwords.words('english'))\n",
    "    tokens = nltk.word_tokenize(str)\n",
    "    return ' '.join([token for token in tokens if token not in stop_words])\n",
    "\n",
    "def preprocess(str):\n",
    "    if type(str) != str:\n",
    "        return str\n",
    "    str = lower(str)\n",
    "    str = lemmatize(str)\n",
    "    str = remove_punctuation(str)\n",
    "    str = remove_stopwords(str)\n",
    "    return ' '.join(str.split())"
   ]
  },
  {
   "cell_type": "code",
   "execution_count": 56,
   "metadata": {},
   "outputs": [],
   "source": [
    "# config\n",
    "\n",
    "config = {\n",
    "    'seed': 12345,\n",
    "    'splits': 9,\n",
    "}"
   ]
  },
  {
   "cell_type": "code",
   "execution_count": 57,
   "metadata": {},
   "outputs": [],
   "source": [
    "# load data\n",
    "\n",
    "df = pd.read_csv('reviews_final_split.csv')\n",
    "\n",
    "df, df_vr = train_test_split(df, test_size=0.2, random_state=config['seed'])\n",
    "\n",
    "df['body'] = df['body'].fillna('')\n",
    "df['rating_item'] = df['rating_item'].fillna(0)\n",
    "df['rating_delivery'] = df['rating_delivery'].fillna(0)\n",
    "df['rating_seller'] = df['rating_seller'].fillna(0)\n",
    "df['rating_marketplace'] = df['rating_marketplace'].fillna(0)\n",
    "\n",
    "df['rating_item'] = df['rating_item'].astype(int)\n",
    "df['rating_delivery'] = df['rating_delivery'].astype(int)\n",
    "df['rating_seller'] = df['rating_seller'].astype(int)\n",
    "df['rating_marketplace'] = df['rating_marketplace'].astype(int)"
   ]
  },
  {
   "cell_type": "code",
   "execution_count": 58,
   "metadata": {},
   "outputs": [],
   "source": [
    "#function to categorise the sentece based on the feature\n",
    "def Split_shipping(a):\n",
    "  out=\" \"\n",
    "  for st in a.split(\".\"):\n",
    "    if(re.search(\"delivery|shipping\", st , flags=re.IGNORECASE)):\n",
    "      out=out+st\n",
    "  if out==\" \":\n",
    "    return ''\n",
    "  else:\n",
    "    return out\n",
    "def Split_seller(a):\n",
    "  out=\" \"\n",
    "  for st in a.split(\".\"):\n",
    "    if(re.search(\"seller\", st , flags=re.IGNORECASE)):\n",
    "      out=out+st\n",
    "  if out==\" \":\n",
    "    return ''\n",
    "  else:\n",
    "    return out\n",
    "def Split_market_place(a):\n",
    "  out=\" \"\n",
    "  for st in a.split(\".\"):\n",
    "    if(re.search(\"market place|marketplace|website\", st , flags=re.IGNORECASE)):\n",
    "      out=out+st\n",
    "  if out==\" \":\n",
    "    return ''\n",
    "  else:\n",
    "    return out\n",
    "def Split_product(a):\n",
    "  out=\" \"\n",
    "  for st in a.split(\".\"):\n",
    "    if not (re.search(\"delivery|shipping|seller|market place|marketplace|website\", st , flags=re.IGNORECASE)):\n",
    "      out=out+st\n",
    "\n",
    "  return out"
   ]
  },
  {
   "cell_type": "code",
   "execution_count": 59,
   "metadata": {},
   "outputs": [],
   "source": [
    "# transform data\n",
    "\n",
    "df['title'] = df['title'].fillna('')\n",
    "df['review'] = ((df['title'] + ' ') if len(df['title']) > 0 else '') + df['body']\n",
    "\n",
    "vectorizer = TfidfVectorizer()\n",
    "vectorizer.fit(pd.concat([df['review'], df['review']], ignore_index=True))\n",
    "\n",
    "# an experiment showed that separate models for each aspect provide better accuracy than one multioutput-multilabel model\n",
    "y_item = df[['rating_item']]\n",
    "y_delivery = df[['rating_delivery']]\n",
    "y_seller = df[['rating_seller']]\n",
    "y_marketplace = df[['rating_marketplace']]"
   ]
  },
  {
   "cell_type": "code",
   "execution_count": 60,
   "metadata": {},
   "outputs": [],
   "source": [
    "df['split_product'] = df['review'].apply(lambda x:Split_product(x)).apply(lambda x: clean(x)).apply(lambda x: preprocess(x))\n",
    "df['split_ship'] = df['review'].apply(lambda x:Split_shipping(x)).apply(lambda x: clean(x)).apply(lambda x: preprocess(x))\n",
    "df['split_seller'] = df['review'].apply(lambda x:Split_seller(x)).apply(lambda x: clean(x)).apply(lambda x: preprocess(x))\n",
    "df['split_market'] = df['review'].apply(lambda x:Split_market_place(x)).apply(lambda x: clean(x)).apply(lambda x: preprocess(x))"
   ]
  },
  {
   "cell_type": "code",
   "execution_count": 68,
   "metadata": {},
   "outputs": [
    {
     "name": "stderr",
     "output_type": "stream",
     "text": [
      "  0%|          | 0/9 [00:00<?, ?it/s]"
     ]
    },
    {
     "name": "stdout",
     "output_type": "stream",
     "text": [
      "Fitting 15 folds for each of 50 candidates, totalling 750 fits\n",
      "The best model for item: SVC(C=7)\n",
      "Fitting 15 folds for each of 50 candidates, totalling 750 fits\n",
      "The best model for delivery: SVC(C=1, degree=7, kernel='linear')\n",
      "Fitting 15 folds for each of 50 candidates, totalling 750 fits\n",
      "The best model for seller: SVC(C=1, degree=8)\n",
      "Fitting 15 folds for each of 50 candidates, totalling 750 fits\n",
      "The best model for marketplace: SVC(C=7)\n"
     ]
    },
    {
     "name": "stderr",
     "output_type": "stream",
     "text": [
      " 11%|█         | 1/9 [02:58<23:51, 178.98s/it]"
     ]
    },
    {
     "name": "stdout",
     "output_type": "stream",
     "text": [
      "Fitting 15 folds for each of 50 candidates, totalling 750 fits\n",
      "The best model for item: SVC(C=1, degree=6, gamma='auto', kernel='linear')\n",
      "Fitting 15 folds for each of 50 candidates, totalling 750 fits\n",
      "The best model for delivery: SVC(C=1, degree=6, gamma='auto', kernel='linear')\n",
      "Fitting 15 folds for each of 50 candidates, totalling 750 fits\n",
      "The best model for seller: SVC(C=1, degree=6, gamma='auto', kernel='linear')\n",
      "Fitting 15 folds for each of 50 candidates, totalling 750 fits\n",
      "The best model for marketplace: SVC(C=3, degree=10)\n"
     ]
    },
    {
     "name": "stderr",
     "output_type": "stream",
     "text": [
      " 22%|██▏       | 2/9 [06:03<21:16, 182.39s/it]"
     ]
    },
    {
     "name": "stdout",
     "output_type": "stream",
     "text": [
      "Fitting 15 folds for each of 50 candidates, totalling 750 fits\n",
      "The best model for item: SVC(C=5, degree=8)\n",
      "Fitting 15 folds for each of 50 candidates, totalling 750 fits\n",
      "The best model for delivery: SVC(C=1, degree=1, kernel='poly')\n",
      "Fitting 15 folds for each of 50 candidates, totalling 750 fits\n",
      "The best model for seller: SVC(C=1, degree=4, kernel='sigmoid')\n",
      "Fitting 15 folds for each of 50 candidates, totalling 750 fits\n",
      "The best model for marketplace: SVC(C=5, degree=8)\n"
     ]
    },
    {
     "name": "stderr",
     "output_type": "stream",
     "text": [
      " 33%|███▎      | 3/9 [09:07<18:19, 183.18s/it]"
     ]
    },
    {
     "name": "stdout",
     "output_type": "stream",
     "text": [
      "Fitting 15 folds for each of 50 candidates, totalling 750 fits\n",
      "The best model for item: SVC(C=1, degree=9, kernel='linear')\n",
      "Fitting 15 folds for each of 50 candidates, totalling 750 fits\n",
      "The best model for delivery: SVC(C=1, degree=9, kernel='linear')\n",
      "Fitting 15 folds for each of 50 candidates, totalling 750 fits\n",
      "The best model for seller: SVC(C=1, degree=9, kernel='linear')\n",
      "Fitting 15 folds for each of 50 candidates, totalling 750 fits\n",
      "The best model for marketplace: SVC(C=2, degree=8)\n"
     ]
    },
    {
     "name": "stderr",
     "output_type": "stream",
     "text": [
      " 44%|████▍     | 4/9 [11:57<14:48, 177.65s/it]"
     ]
    },
    {
     "name": "stdout",
     "output_type": "stream",
     "text": [
      "Fitting 15 folds for each of 50 candidates, totalling 750 fits\n",
      "The best model for item: SVC(C=1, degree=7, kernel='sigmoid')\n",
      "Fitting 15 folds for each of 50 candidates, totalling 750 fits\n",
      "The best model for delivery: SVC(C=5)\n",
      "Fitting 15 folds for each of 50 candidates, totalling 750 fits\n",
      "The best model for seller: SVC(C=2, degree=10)\n",
      "Fitting 15 folds for each of 50 candidates, totalling 750 fits\n",
      "The best model for marketplace: SVC(C=5)\n"
     ]
    },
    {
     "name": "stderr",
     "output_type": "stream",
     "text": [
      " 56%|█████▌    | 5/9 [14:52<11:48, 177.02s/it]"
     ]
    },
    {
     "name": "stdout",
     "output_type": "stream",
     "text": [
      "Fitting 15 folds for each of 50 candidates, totalling 750 fits\n",
      "The best model for item: SVC(C=1, degree=10, kernel='linear')\n",
      "Fitting 15 folds for each of 50 candidates, totalling 750 fits\n",
      "The best model for delivery: SVC(C=1, degree=10, kernel='linear')\n",
      "Fitting 15 folds for each of 50 candidates, totalling 750 fits\n",
      "The best model for seller: SVC(C=5, degree=0)\n",
      "Fitting 15 folds for each of 50 candidates, totalling 750 fits\n",
      "The best model for marketplace: SVC(C=5, degree=0)\n"
     ]
    },
    {
     "name": "stderr",
     "output_type": "stream",
     "text": [
      " 67%|██████▋   | 6/9 [17:27<08:28, 169.41s/it]"
     ]
    },
    {
     "name": "stdout",
     "output_type": "stream",
     "text": [
      "Fitting 15 folds for each of 50 candidates, totalling 750 fits\n",
      "The best model for item: SVC(C=1, degree=6, kernel='sigmoid')\n",
      "Fitting 15 folds for each of 50 candidates, totalling 750 fits\n",
      "The best model for delivery: SVC(C=1, degree=4, kernel='linear')\n",
      "Fitting 15 folds for each of 50 candidates, totalling 750 fits\n",
      "The best model for seller: SVC(C=7, degree=10)\n",
      "Fitting 15 folds for each of 50 candidates, totalling 750 fits\n",
      "The best model for marketplace: SVC(C=2, degree=7)\n"
     ]
    },
    {
     "name": "stderr",
     "output_type": "stream",
     "text": [
      " 78%|███████▊  | 7/9 [20:32<05:48, 174.45s/it]"
     ]
    },
    {
     "name": "stdout",
     "output_type": "stream",
     "text": [
      "Fitting 15 folds for each of 50 candidates, totalling 750 fits\n",
      "The best model for item: SVC(C=8, degree=5)\n",
      "Fitting 15 folds for each of 50 candidates, totalling 750 fits\n",
      "The best model for delivery: SVC(C=1, kernel='linear')\n",
      "Fitting 15 folds for each of 50 candidates, totalling 750 fits\n",
      "The best model for seller: SVC(C=8, degree=5)\n",
      "Fitting 15 folds for each of 50 candidates, totalling 750 fits\n",
      "The best model for marketplace: SVC(C=8, degree=5)\n"
     ]
    },
    {
     "name": "stderr",
     "output_type": "stream",
     "text": [
      " 89%|████████▉ | 8/9 [23:02<02:46, 166.82s/it]"
     ]
    },
    {
     "name": "stdout",
     "output_type": "stream",
     "text": [
      "Fitting 15 folds for each of 50 candidates, totalling 750 fits\n",
      "The best model for item: SVC(C=1, degree=1, kernel='poly')\n",
      "Fitting 15 folds for each of 50 candidates, totalling 750 fits\n",
      "The best model for delivery: SVC(C=1, degree=1, kernel='poly')\n",
      "Fitting 15 folds for each of 50 candidates, totalling 750 fits\n",
      "The best model for seller: SVC(C=8, degree=8)\n",
      "Fitting 15 folds for each of 50 candidates, totalling 750 fits\n",
      "The best model for marketplace: SVC(C=1, degree=1, kernel='poly')\n"
     ]
    },
    {
     "name": "stderr",
     "output_type": "stream",
     "text": [
      "100%|██████████| 9/9 [26:09<00:00, 174.36s/it]\n"
     ]
    }
   ],
   "source": [
    "# model training and evaluation\n",
    "\n",
    "model_accuracy = {\n",
    "    'item': [],\n",
    "    'delivery': [],\n",
    "    'seller': [],\n",
    "    'marketplace': []\n",
    "}\n",
    "\n",
    "tuning_grid = dict(\n",
    "    kernel = ['linear', 'rbf', 'sigmoid', 'poly'],\n",
    "    C = range(1, 11, 1),\n",
    "    degree = range(11),\n",
    "    gamma = ['scale', 'auto']\n",
    ")\n",
    "\n",
    "# to be sure the split for the training and test set is not particulary bad, we do it multiple times\n",
    "for split in tqdm.tqdm(range(config['splits'])):\n",
    "    seed = rnd.randint(0, 1000000)\n",
    "\n",
    "    X_item = vectorizer.transform(df['split_product'])\n",
    "    X_delivery = vectorizer.transform(df['split_ship'])\n",
    "    X_seller = vectorizer.transform(df['split_seller'])\n",
    "    X_marketplace = vectorizer.transform(df['split_market'])\n",
    "\n",
    "    X_item_train, X_item_test, y_item_train, y_item_test = train_test_split(X_item, y_item, test_size=0.2, random_state=seed)\n",
    "    X_delivery_train, X_delivery_test, y_delivery_train, y_delivery_test = train_test_split(X_delivery, y_delivery, test_size=0.2, random_state=seed)\n",
    "    X_seller_train, X_seller_test, y_seller_train, y_seller_test = train_test_split(X_seller, y_seller, test_size=0.2, random_state=seed)\n",
    "    X_marketplace_train, X_marketplace_test, y_marketplace_train, y_marketplace_test = train_test_split(X_marketplace, y_marketplace, test_size=0.2, random_state=seed)\n",
    "\n",
    "    tuning_cv = RepeatedKFold(n_splits=5, n_repeats=3, random_state=seed)\n",
    "    gridSearch = RandomizedSearchCV(estimator=SVC(), param_distributions=tuning_grid, n_iter=50, n_jobs=-1, random_state=seed, \n",
    "        cv=tuning_cv, scoring=\"accuracy\", verbose=1)\n",
    "    searchResults = gridSearch.fit(X_item_train, y_item_train.values.ravel())\n",
    "    model_item = searchResults.best_estimator_\n",
    "    print('The best model for item: ' + str(model_item))\n",
    "\n",
    "    tuning_cv = RepeatedKFold(n_splits=5, n_repeats=3, random_state=seed)\n",
    "    gridSearch = RandomizedSearchCV(estimator=SVC(), param_distributions=tuning_grid, n_iter=50, n_jobs=-1, random_state=seed, \n",
    "        cv=tuning_cv, scoring=\"accuracy\", verbose=1)\n",
    "    searchResults = gridSearch.fit(X_delivery_train, y_delivery_train.values.ravel())\n",
    "    model_delivery = searchResults.best_estimator_\n",
    "    print('The best model for delivery: ' + str(model_delivery))\n",
    "\n",
    "    tuning_cv = RepeatedKFold(n_splits=5, n_repeats=3, random_state=seed)\n",
    "    gridSearch = RandomizedSearchCV(estimator=SVC(), param_distributions=tuning_grid, n_iter=50, n_jobs=-1, random_state=seed,\n",
    "        cv=tuning_cv, scoring=\"accuracy\", verbose=1)\n",
    "    searchResults = gridSearch.fit(X_seller_train, y_seller_train.values.ravel())\n",
    "    model_seller = searchResults.best_estimator_\n",
    "    print('The best model for seller: ' + str(model_seller))\n",
    "\n",
    "    tuning_cv = RepeatedKFold(n_splits=5, n_repeats=3, random_state=seed)\n",
    "    gridSearch = RandomizedSearchCV(estimator=SVC(), param_distributions=tuning_grid, n_iter=50, n_jobs=-1, random_state=seed,\n",
    "        cv=tuning_cv, scoring=\"accuracy\", verbose=1)\n",
    "    searchResults = gridSearch.fit(X_marketplace_train, y_marketplace_train.values.ravel())\n",
    "    model_marketplace = searchResults.best_estimator_\n",
    "    print('The best model for marketplace: ' + str(model_marketplace))\n",
    "\n",
    "    y_item_predicted = model_item.predict(X_item_test)\n",
    "    y_delivery_predicted = model_delivery.predict(X_delivery_test)\n",
    "    y_seller_predicted = model_seller.predict(X_seller_test)\n",
    "    y_marketplace_predicted = model_marketplace.predict(X_marketplace_test)\n",
    "\n",
    "    df_item_pred = pd.DataFrame({ 'y_item_test': y_item_test['rating_item'], 'y_item_predicted': y_item_predicted })\n",
    "    df_item_pred = df_item_pred[df_item_pred['y_item_test'] != 0]\n",
    "\n",
    "    df_delivery_pred = pd.DataFrame({ 'y_delivery_test': y_delivery_test['rating_delivery'], 'y_delivery_predicted': y_delivery_predicted })\n",
    "    df_delivery_pred = df_delivery_pred[df_delivery_pred['y_delivery_test'] != 0]\n",
    "\n",
    "    df_seller_pred = pd.DataFrame({ 'y_seller_test': y_seller_test['rating_seller'], 'y_seller_predicted': y_seller_predicted })\n",
    "    df_seller_pred = df_seller_pred[df_seller_pred['y_seller_test'] != 0]\n",
    "\n",
    "    df_marketplace_pred = pd.DataFrame({ 'y_marketplace_test': y_marketplace_test['rating_marketplace'], 'y_marketplace_predicted': y_marketplace_predicted })\n",
    "    df_marketplace_pred = df_marketplace_pred[df_marketplace_pred['y_marketplace_test'] != 0]\n",
    "\n",
    "    cm_item = confusion_matrix(df_item_pred['y_item_test'], df_item_pred['y_item_predicted'], labels=[1, 2, 3, 4, 5])\n",
    "    cm_delivery = confusion_matrix(df_delivery_pred['y_delivery_test'], df_delivery_pred['y_delivery_predicted'], labels=[1, 2, 3, 4, 5])\n",
    "    cm_seller = confusion_matrix(df_seller_pred['y_seller_test'], df_seller_pred['y_seller_predicted'], labels=[1, 2, 3, 4, 5])\n",
    "    cm_marketplace = confusion_matrix(df_marketplace_pred['y_marketplace_test'], df_marketplace_pred['y_marketplace_predicted'], labels=[1, 2, 3, 4, 5])\n",
    "\n",
    "    model_accuracy['item'].append({\n",
    "        'accuracy': cm_item.diagonal().sum() / cm_item.sum(),\n",
    "        'model': model_item,\n",
    "        'cm': cm_item\n",
    "    })\n",
    "\n",
    "    model_accuracy['delivery'].append({\n",
    "        'accuracy': cm_delivery.diagonal().sum() / cm_delivery.sum(),\n",
    "        'model': model_delivery,\n",
    "        'cm': cm_delivery\n",
    "    })\n",
    "\n",
    "    model_accuracy['seller'].append({\n",
    "        'accuracy': cm_seller.diagonal().sum() / cm_seller.sum(),\n",
    "        'model': model_seller,\n",
    "        'cm': cm_seller\n",
    "    })\n",
    "\n",
    "    model_accuracy['marketplace'].append({\n",
    "        'accuracy': cm_marketplace.diagonal().sum() / cm_marketplace.sum(),\n",
    "        'model': model_marketplace,\n",
    "        'cm': cm_marketplace\n",
    "    })"
   ]
  },
  {
   "cell_type": "code",
   "execution_count": 79,
   "metadata": {},
   "outputs": [
    {
     "name": "stdout",
     "output_type": "stream",
     "text": [
      "Item mean accuracy:  0.3412787024555404\n",
      "Delivery mean accuracy:  0.4176875816851443\n",
      "Seller mean accuracy:  0.4470378564884989\n",
      "Marketplace mean accuracy:  0.4335713236479117\n",
      "Overall mean accuracy:  0.4098938660692738\n"
     ]
    }
   ],
   "source": [
    "# models evaluation\n",
    "\n",
    "print('Item mean accuracy: ', statistics.mean([m['accuracy'] for m in model_accuracy['item']]))\n",
    "print('Delivery mean accuracy: ', statistics.mean([m['accuracy'] for m in model_accuracy['delivery']]))\n",
    "print('Seller mean accuracy: ', statistics.mean([m['accuracy'] for m in model_accuracy['seller']]))\n",
    "print('Marketplace mean accuracy: ', statistics.mean([m['accuracy'] for m in model_accuracy['marketplace']]))\n",
    "accuracy_mean = statistics.mean([\n",
    "    statistics.mean([m['accuracy'] for m in model_accuracy['item']]),\n",
    "    statistics.mean([m['accuracy'] for m in model_accuracy['delivery']]),\n",
    "    statistics.mean([m['accuracy'] for m in model_accuracy['seller']]),\n",
    "    statistics.mean([m['accuracy'] for m in model_accuracy['marketplace']])\n",
    "])\n",
    "print('Overall mean accuracy: ', accuracy_mean)"
   ]
  },
  {
   "cell_type": "code",
   "execution_count": 80,
   "metadata": {},
   "outputs": [
    {
     "name": "stderr",
     "output_type": "stream",
     "text": [
      "/Users/dmitry/.conda/envs/adsp/lib/python3.11/site-packages/mlxtend/classifier/ensemble_vote.py:173: UserWarning: fit_base_estimators=False enforces use_clones to be `False`\n",
      "  warnings.warn(\n",
      "/Users/dmitry/.conda/envs/adsp/lib/python3.11/site-packages/mlxtend/classifier/ensemble_vote.py:173: UserWarning: fit_base_estimators=False enforces use_clones to be `False`\n",
      "  warnings.warn(\n",
      "/Users/dmitry/.conda/envs/adsp/lib/python3.11/site-packages/mlxtend/classifier/ensemble_vote.py:173: UserWarning: fit_base_estimators=False enforces use_clones to be `False`\n",
      "  warnings.warn(\n",
      "/Users/dmitry/.conda/envs/adsp/lib/python3.11/site-packages/mlxtend/classifier/ensemble_vote.py:173: UserWarning: fit_base_estimators=False enforces use_clones to be `False`\n",
      "  warnings.warn(\n"
     ]
    },
    {
     "data": {
      "text/html": [
       "<style>#sk-container-id-3 {color: black;background-color: white;}#sk-container-id-3 pre{padding: 0;}#sk-container-id-3 div.sk-toggleable {background-color: white;}#sk-container-id-3 label.sk-toggleable__label {cursor: pointer;display: block;width: 100%;margin-bottom: 0;padding: 0.3em;box-sizing: border-box;text-align: center;}#sk-container-id-3 label.sk-toggleable__label-arrow:before {content: \"▸\";float: left;margin-right: 0.25em;color: #696969;}#sk-container-id-3 label.sk-toggleable__label-arrow:hover:before {color: black;}#sk-container-id-3 div.sk-estimator:hover label.sk-toggleable__label-arrow:before {color: black;}#sk-container-id-3 div.sk-toggleable__content {max-height: 0;max-width: 0;overflow: hidden;text-align: left;background-color: #f0f8ff;}#sk-container-id-3 div.sk-toggleable__content pre {margin: 0.2em;color: black;border-radius: 0.25em;background-color: #f0f8ff;}#sk-container-id-3 input.sk-toggleable__control:checked~div.sk-toggleable__content {max-height: 200px;max-width: 100%;overflow: auto;}#sk-container-id-3 input.sk-toggleable__control:checked~label.sk-toggleable__label-arrow:before {content: \"▾\";}#sk-container-id-3 div.sk-estimator input.sk-toggleable__control:checked~label.sk-toggleable__label {background-color: #d4ebff;}#sk-container-id-3 div.sk-label input.sk-toggleable__control:checked~label.sk-toggleable__label {background-color: #d4ebff;}#sk-container-id-3 input.sk-hidden--visually {border: 0;clip: rect(1px 1px 1px 1px);clip: rect(1px, 1px, 1px, 1px);height: 1px;margin: -1px;overflow: hidden;padding: 0;position: absolute;width: 1px;}#sk-container-id-3 div.sk-estimator {font-family: monospace;background-color: #f0f8ff;border: 1px dotted black;border-radius: 0.25em;box-sizing: border-box;margin-bottom: 0.5em;}#sk-container-id-3 div.sk-estimator:hover {background-color: #d4ebff;}#sk-container-id-3 div.sk-parallel-item::after {content: \"\";width: 100%;border-bottom: 1px solid gray;flex-grow: 1;}#sk-container-id-3 div.sk-label:hover label.sk-toggleable__label {background-color: #d4ebff;}#sk-container-id-3 div.sk-serial::before {content: \"\";position: absolute;border-left: 1px solid gray;box-sizing: border-box;top: 0;bottom: 0;left: 50%;z-index: 0;}#sk-container-id-3 div.sk-serial {display: flex;flex-direction: column;align-items: center;background-color: white;padding-right: 0.2em;padding-left: 0.2em;position: relative;}#sk-container-id-3 div.sk-item {position: relative;z-index: 1;}#sk-container-id-3 div.sk-parallel {display: flex;align-items: stretch;justify-content: center;background-color: white;position: relative;}#sk-container-id-3 div.sk-item::before, #sk-container-id-3 div.sk-parallel-item::before {content: \"\";position: absolute;border-left: 1px solid gray;box-sizing: border-box;top: 0;bottom: 0;left: 50%;z-index: -1;}#sk-container-id-3 div.sk-parallel-item {display: flex;flex-direction: column;z-index: 1;position: relative;background-color: white;}#sk-container-id-3 div.sk-parallel-item:first-child::after {align-self: flex-end;width: 50%;}#sk-container-id-3 div.sk-parallel-item:last-child::after {align-self: flex-start;width: 50%;}#sk-container-id-3 div.sk-parallel-item:only-child::after {width: 0;}#sk-container-id-3 div.sk-dashed-wrapped {border: 1px dashed gray;margin: 0 0.4em 0.5em 0.4em;box-sizing: border-box;padding-bottom: 0.4em;background-color: white;}#sk-container-id-3 div.sk-label label {font-family: monospace;font-weight: bold;display: inline-block;line-height: 1.2em;}#sk-container-id-3 div.sk-label-container {text-align: center;}#sk-container-id-3 div.sk-container {/* jupyter's `normalize.less` sets `[hidden] { display: none; }` but bootstrap.min.css set `[hidden] { display: none !important; }` so we also need the `!important` here to be able to override the default hidden behavior on the sphinx rendered scikit-learn.org. See: https://github.com/scikit-learn/scikit-learn/issues/21755 */display: inline-block !important;position: relative;}#sk-container-id-3 div.sk-text-repr-fallback {display: none;}</style><div id=\"sk-container-id-3\" class=\"sk-top-container\"><div class=\"sk-text-repr-fallback\"><pre>EnsembleVoteClassifier(clfs=[SVC(C=7), SVC(C=3, degree=10), SVC(C=5, degree=8),\n",
       "                             SVC(C=2, degree=8), SVC(C=5), SVC(C=5, degree=0),\n",
       "                             SVC(C=2, degree=7), SVC(C=8, degree=5),\n",
       "                             SVC(C=1, degree=1, kernel=&#x27;poly&#x27;)],\n",
       "                       fit_base_estimators=False, use_clones=False)</pre><b>In a Jupyter environment, please rerun this cell to show the HTML representation or trust the notebook. <br />On GitHub, the HTML representation is unable to render, please try loading this page with nbviewer.org.</b></div><div class=\"sk-container\" hidden><div class=\"sk-item\"><div class=\"sk-estimator sk-toggleable\"><input class=\"sk-toggleable__control sk-hidden--visually\" id=\"sk-estimator-id-3\" type=\"checkbox\" checked><label for=\"sk-estimator-id-3\" class=\"sk-toggleable__label sk-toggleable__label-arrow\">EnsembleVoteClassifier</label><div class=\"sk-toggleable__content\"><pre>EnsembleVoteClassifier(clfs=[SVC(C=7), SVC(C=3, degree=10), SVC(C=5, degree=8),\n",
       "                             SVC(C=2, degree=8), SVC(C=5), SVC(C=5, degree=0),\n",
       "                             SVC(C=2, degree=7), SVC(C=8, degree=5),\n",
       "                             SVC(C=1, degree=1, kernel=&#x27;poly&#x27;)],\n",
       "                       fit_base_estimators=False, use_clones=False)</pre></div></div></div></div></div>"
      ],
      "text/plain": [
       "EnsembleVoteClassifier(clfs=[SVC(C=7), SVC(C=3, degree=10), SVC(C=5, degree=8),\n",
       "                             SVC(C=2, degree=8), SVC(C=5), SVC(C=5, degree=0),\n",
       "                             SVC(C=2, degree=7), SVC(C=8, degree=5),\n",
       "                             SVC(C=1, degree=1, kernel='poly')],\n",
       "                       fit_base_estimators=False, use_clones=False)"
      ]
     },
     "execution_count": 80,
     "metadata": {},
     "output_type": "execute_result"
    }
   ],
   "source": [
    "# ensembles creation\n",
    "\n",
    "X_item_train, X_item_test, y_item_train, y_item_test = train_test_split(X_item, y_item, test_size=0.2, random_state=seed)\n",
    "X_delivery_train, X_delivery_test, y_delivery_train, y_delivery_test = train_test_split(X_delivery, y_delivery, test_size=0.2, random_state=seed)\n",
    "X_seller_train, X_seller_test, y_seller_train, y_seller_test = train_test_split(X_seller, y_seller, test_size=0.2, random_state=seed)\n",
    "X_marketplace_train, X_marketplace_test, y_marketplace_train, y_marketplace_test = train_test_split(X_marketplace, y_marketplace, test_size=0.2, random_state=seed)\n",
    "\n",
    "ensemble_item = EnsembleVoteClassifier(clfs=[m['model'] for m in model_accuracy['item']], voting='hard', fit_base_estimators=False)\n",
    "ensemble_delivery = EnsembleVoteClassifier(clfs=[m['model'] for m in model_accuracy['delivery']], voting='hard', fit_base_estimators=False)\n",
    "ensemble_seller = EnsembleVoteClassifier(clfs=[m['model'] for m in model_accuracy['seller']], voting='hard', fit_base_estimators=False)\n",
    "ensemble_marketplace = EnsembleVoteClassifier(clfs=[m['model'] for m in model_accuracy['marketplace']], voting='hard', fit_base_estimators=False)\n",
    "\n",
    "# as fit_base_estimators=False it does nothing, but still required\n",
    "ensemble_item.fit(X_item_train, y_item_train)\n",
    "ensemble_delivery.fit(X_delivery_train, y_delivery_train)\n",
    "ensemble_seller.fit(X_seller_train, y_seller_train)\n",
    "ensemble_marketplace.fit(X_marketplace_train, y_marketplace_train)"
   ]
  },
  {
   "cell_type": "code",
   "execution_count": 81,
   "metadata": {},
   "outputs": [],
   "source": [
    "df_vr['split_product'] = df_vr['body'].apply(lambda x:Split_product(x)).apply(lambda x: clean(x)).apply(lambda x: preprocess(x))\n",
    "df_vr['split_ship'] = df_vr['body'].apply(lambda x:Split_shipping(x)).apply(lambda x: clean(x)).apply(lambda x: preprocess(x))\n",
    "df_vr['split_seller'] = df_vr['body'].apply(lambda x:Split_seller(x)).apply(lambda x: clean(x)).apply(lambda x: preprocess(x))\n",
    "df_vr['split_market'] = df_vr['body'].apply(lambda x:Split_market_place(x)).apply(lambda x: clean(x)).apply(lambda x: preprocess(x))"
   ]
  },
  {
   "cell_type": "code",
   "execution_count": 82,
   "metadata": {},
   "outputs": [],
   "source": [
    "# prediction from the ensembles\n",
    "\n",
    "X_vr_item = vectorizer.transform(df_vr['split_product'])\n",
    "X_vr_delivery = vectorizer.transform(df_vr['split_ship'])\n",
    "X_vr_seller = vectorizer.transform(df_vr['split_seller'])\n",
    "X_vr_marketplace = vectorizer.transform(df_vr['split_market'])\n",
    "\n",
    "y_vr_item_predict = ensemble_item.predict(X_vr_item)\n",
    "y_vr_delivery_predict = ensemble_delivery.predict(X_vr_delivery)\n",
    "y_vr_seller_predict = ensemble_seller.predict(X_vr_seller)\n",
    "y_vr_marketplace_predict = ensemble_marketplace.predict(X_vr_marketplace)"
   ]
  },
  {
   "cell_type": "code",
   "execution_count": 85,
   "metadata": {},
   "outputs": [],
   "source": [
    "df_vr_item_pred = pd.DataFrame({ 'y_item_test': df_vr['rating_item'], 'y_item_predicted': y_vr_item_predict })\n",
    "df_vr_item_pred = df_vr_item_pred[df_vr_item_pred['y_item_test'] != 0]\n",
    "\n",
    "df_vr_delivery_pred = pd.DataFrame({ 'y_delivery_test': df_vr['rating_delivery'], 'y_delivery_predicted': y_vr_delivery_predict })\n",
    "df_vr_delivery_pred = df_vr_delivery_pred[df_vr_delivery_pred['y_delivery_test'] != 0]\n",
    "\n",
    "df_vr_seller_pred = pd.DataFrame({ 'y_seller_test': df_vr['rating_seller'], 'y_seller_predicted': y_vr_seller_predict })\n",
    "df_vr_seller_pred = df_vr_seller_pred[df_vr_seller_pred['y_seller_test'] != 0]\n",
    "\n",
    "df_vr_marketplace_pred = pd.DataFrame({ 'y_marketplace_test': df_vr['rating_marketplace'], 'y_marketplace_predicted': y_vr_marketplace_predict })\n",
    "df_vr_marketplace_pred = df_vr_marketplace_pred[df_vr_marketplace_pred['y_marketplace_test'] != 0]"
   ]
  },
  {
   "cell_type": "code",
   "execution_count": 87,
   "metadata": {},
   "outputs": [
    {
     "name": "stdout",
     "output_type": "stream",
     "text": [
      "Accuracy:  {'rating_item': 0.35714285714285715, 'rating_delivery': 0.4166666666666667, 'rating_seller': 0.4439252336448598, 'rating_marketplace': 0.400990099009901}\n",
      "Average accuracy:  0.40468121411607116\n"
     ]
    },
    {
     "data": {
      "image/png": "[encoded data removed]",
      "text/plain": [
       "<Figure size 1000x1000 with 8 Axes>"
      ]
     },
     "metadata": {},
     "output_type": "display_data"
    }
   ],
   "source": [
    "# show results\n",
    "\n",
    "accuracy = {}\n",
    "\n",
    "fig, axs = plt.subplots(nrows=2, ncols=2, figsize=(10, 10))\n",
    "\n",
    "cm = confusion_matrix(df_vr_item_pred['y_item_test'], df_vr_item_pred['y_item_predicted'], labels=[1, 2, 3, 4, 5])\n",
    "disp = ConfusionMatrixDisplay(confusion_matrix=cm, display_labels=[1, 2, 3, 4, 5])\n",
    "disp.plot(ax=axs[0, 0])\n",
    "axs[0, 0].set_title('rating_item')\n",
    "accuracy['rating_item'] = cm.diagonal().sum() / cm.sum()\n",
    "\n",
    "cm = confusion_matrix(df_vr_delivery_pred['y_delivery_test'], df_vr_delivery_pred['y_delivery_predicted'], labels=[1, 2, 3, 4, 5])\n",
    "disp = ConfusionMatrixDisplay(confusion_matrix=cm, display_labels=[1, 2, 3, 4, 5])\n",
    "disp.plot(ax=axs[0, 1])\n",
    "axs[0, 1].set_title('rating_delivery')\n",
    "accuracy['rating_delivery'] = cm.diagonal().sum() / cm.sum()\n",
    "\n",
    "cm = confusion_matrix(df_vr_seller_pred['y_seller_test'], df_vr_seller_pred['y_seller_predicted'], labels=[1, 2, 3, 4, 5])\n",
    "disp = ConfusionMatrixDisplay(confusion_matrix=cm, display_labels=[1, 2, 3, 4, 5])\n",
    "disp.plot(ax=axs[1, 0])\n",
    "axs[1, 0].set_title('rating_seller')\n",
    "accuracy['rating_seller'] = cm.diagonal().sum() / cm.sum()\n",
    "\n",
    "cm = confusion_matrix(df_vr_marketplace_pred['y_marketplace_test'], df_vr_marketplace_pred['y_marketplace_predicted'], labels=[1, 2, 3, 4, 5])\n",
    "disp = ConfusionMatrixDisplay(confusion_matrix=cm, display_labels=[1, 2, 3, 4, 5])\n",
    "disp.plot(ax=axs[1, 1])\n",
    "axs[1, 1].set_title('rating_marketplace')\n",
    "accuracy['rating_marketplace'] = cm.diagonal().sum() / cm.sum()\n",
    "\n",
    "print('Accuracy: ', accuracy)\n",
    "print('Average accuracy: ', sum(accuracy.values()) / len(accuracy))\n",
    "\n",
    "plt.show()"
   ]
  },
  {
   "cell_type": "code",
   "execution_count": 88,
   "metadata": {},
   "outputs": [],
   "source": [
    "# prediction from best models\n",
    "\n",
    "model_best = {}\n",
    "model_best['item'] = max(model_accuracy['item'], key=lambda x: x['accuracy'])['model']\n",
    "model_best['delivery'] = max(model_accuracy['delivery'], key=lambda x: x['accuracy'])['model']\n",
    "model_best['seller'] = max(model_accuracy['seller'], key=lambda x: x['accuracy'])['model']\n",
    "model_best['marketplace'] = max(model_accuracy['marketplace'], key=lambda x: x['accuracy'])['model']\n",
    "\n",
    "y_vr_item_predict = model_best['item'].predict(X_vr_item)\n",
    "y_vr_delivery_predict = model_best['delivery'].predict(X_vr_delivery)\n",
    "y_vr_seller_predict = model_best['seller'].predict(X_vr_seller)\n",
    "y_vr_marketplace_predict = model_best['marketplace'].predict(X_vr_marketplace)"
   ]
  },
  {
   "cell_type": "code",
   "execution_count": 90,
   "metadata": {},
   "outputs": [],
   "source": [
    "df_vr_item_pred = pd.DataFrame({ 'y_item_test': df_vr['rating_item'], 'y_item_predicted': y_vr_item_predict })\n",
    "df_vr_item_pred = df_vr_item_pred[df_vr_item_pred['y_item_test'] != 0]\n",
    "\n",
    "df_vr_delivery_pred = pd.DataFrame({ 'y_delivery_test': df_vr['rating_delivery'], 'y_delivery_predicted': y_vr_delivery_predict })\n",
    "df_vr_delivery_pred = df_vr_delivery_pred[df_vr_delivery_pred['y_delivery_test'] != 0]\n",
    "\n",
    "df_vr_seller_pred = pd.DataFrame({ 'y_seller_test': df_vr['rating_seller'], 'y_seller_predicted': y_vr_seller_predict })\n",
    "df_vr_seller_pred = df_vr_seller_pred[df_vr_seller_pred['y_seller_test'] != 0]\n",
    "\n",
    "df_vr_marketplace_pred = pd.DataFrame({ 'y_marketplace_test': df_vr['rating_marketplace'], 'y_marketplace_predicted': y_vr_marketplace_predict })\n",
    "df_vr_marketplace_pred = df_vr_marketplace_pred[df_vr_marketplace_pred['y_marketplace_test'] != 0]"
   ]
  },
  {
   "cell_type": "code",
   "execution_count": 91,
   "metadata": {},
   "outputs": [
    {
     "name": "stdout",
     "output_type": "stream",
     "text": [
      "Accuracy:  {'rating_item': 0.31155778894472363, 'rating_delivery': 0.3878504672897196, 'rating_seller': 0.4205607476635514, 'rating_marketplace': 0.44554455445544555}\n",
      "Average accuracy:  0.39137838958836\n"
     ]
    },
    {
     "data": {
      "image/png": "[encoded data removed]",
      "text/plain": [
       "<Figure size 1000x1000 with 8 Axes>"
      ]
     },
     "metadata": {},
     "output_type": "display_data"
    }
   ],
   "source": [
    "# show results\n",
    "\n",
    "accuracy = {}\n",
    "\n",
    "fig, axs = plt.subplots(nrows=2, ncols=2, figsize=(10, 10))\n",
    "\n",
    "cm = confusion_matrix(df_vr_item_pred['y_item_test'], df_vr_item_pred['y_item_predicted'], labels=[1, 2, 3, 4, 5])\n",
    "disp = ConfusionMatrixDisplay(confusion_matrix=cm, display_labels=[1, 2, 3, 4, 5])\n",
    "disp.plot(ax=axs[0, 0])\n",
    "axs[0, 0].set_title('rating_item')\n",
    "accuracy['rating_item'] = cm.diagonal().sum() / cm.sum()\n",
    "\n",
    "cm = confusion_matrix(df_vr_delivery_pred['y_delivery_test'], df_vr_delivery_pred['y_delivery_predicted'], labels=[1, 2, 3, 4, 5])\n",
    "disp = ConfusionMatrixDisplay(confusion_matrix=cm, display_labels=[1, 2, 3, 4, 5])\n",
    "disp.plot(ax=axs[0, 1])\n",
    "axs[0, 1].set_title('rating_delivery')\n",
    "accuracy['rating_delivery'] = cm.diagonal().sum() / cm.sum()\n",
    "\n",
    "cm = confusion_matrix(df_vr_seller_pred['y_seller_test'], df_vr_seller_pred['y_seller_predicted'], labels=[1, 2, 3, 4, 5])\n",
    "disp = ConfusionMatrixDisplay(confusion_matrix=cm, display_labels=[1, 2, 3, 4, 5])\n",
    "disp.plot(ax=axs[1, 0])\n",
    "axs[1, 0].set_title('rating_seller')\n",
    "accuracy['rating_seller'] = cm.diagonal().sum() / cm.sum()\n",
    "\n",
    "cm = confusion_matrix(df_vr_marketplace_pred['y_marketplace_test'], df_vr_marketplace_pred['y_marketplace_predicted'], labels=[1, 2, 3, 4, 5])\n",
    "disp = ConfusionMatrixDisplay(confusion_matrix=cm, display_labels=[1, 2, 3, 4, 5])\n",
    "disp.plot(ax=axs[1, 1])\n",
    "axs[1, 1].set_title('rating_marketplace')\n",
    "accuracy['rating_marketplace'] = cm.diagonal().sum() / cm.sum()\n",
    "\n",
    "print('Accuracy: ', accuracy)\n",
    "print('Average accuracy: ', sum(accuracy.values()) / len(accuracy))\n",
    "\n",
    "plt.show()"
   ]
  },
  {
   "cell_type": "code",
   "execution_count": 92,
   "metadata": {},
   "outputs": [
    {
     "name": "stdout",
     "output_type": "stream",
     "text": [
      "Model description for product\n",
      "              precision    recall  f1-score   support\n",
      "\n",
      "           0       0.00      0.00      0.00         0\n",
      "           1       0.16      0.08      0.10        39\n",
      "           2       0.40      0.36      0.38        39\n",
      "           3       0.30      0.42      0.35        43\n",
      "           4       0.29      0.27      0.28        45\n",
      "           5       0.35      0.28      0.31        53\n",
      "\n",
      "    accuracy                           0.28       219\n",
      "   macro avg       0.25      0.23      0.24       219\n",
      "weighted avg       0.30      0.28      0.29       219\n",
      "\n"
     ]
    },
    {
     "name": "stderr",
     "output_type": "stream",
     "text": [
      "/Users/dmitry/.conda/envs/adsp/lib/python3.11/site-packages/sklearn/metrics/_classification.py:1344: UndefinedMetricWarning: Recall and F-score are ill-defined and being set to 0.0 in labels with no true samples. Use `zero_division` parameter to control this behavior.\n",
      "  _warn_prf(average, modifier, msg_start, len(result))\n",
      "/Users/dmitry/.conda/envs/adsp/lib/python3.11/site-packages/sklearn/metrics/_classification.py:1344: UndefinedMetricWarning: Recall and F-score are ill-defined and being set to 0.0 in labels with no true samples. Use `zero_division` parameter to control this behavior.\n",
      "  _warn_prf(average, modifier, msg_start, len(result))\n",
      "/Users/dmitry/.conda/envs/adsp/lib/python3.11/site-packages/sklearn/metrics/_classification.py:1344: UndefinedMetricWarning: Recall and F-score are ill-defined and being set to 0.0 in labels with no true samples. Use `zero_division` parameter to control this behavior.\n",
      "  _warn_prf(average, modifier, msg_start, len(result))\n"
     ]
    }
   ],
   "source": [
    "print('Model description for product')\n",
    "print(classification_report(df_vr_item_pred['y_item_test'], df_vr_item_pred['y_item_predicted']))"
   ]
  },
  {
   "cell_type": "code",
   "execution_count": 93,
   "metadata": {},
   "outputs": [
    {
     "name": "stdout",
     "output_type": "stream",
     "text": [
      "Model description for delivery\n",
      "              precision    recall  f1-score   support\n",
      "\n",
      "           0       0.00      0.00      0.00         0\n",
      "           1       0.41      0.41      0.41        51\n",
      "           2       0.19      0.20      0.20        45\n",
      "           3       0.34      0.29      0.31        45\n",
      "           4       0.48      0.31      0.38        49\n",
      "           5       0.53      0.61      0.57        41\n",
      "\n",
      "    accuracy                           0.36       231\n",
      "   macro avg       0.33      0.30      0.31       231\n",
      "weighted avg       0.39      0.36      0.37       231\n",
      "\n"
     ]
    },
    {
     "name": "stderr",
     "output_type": "stream",
     "text": [
      "/Users/dmitry/.conda/envs/adsp/lib/python3.11/site-packages/sklearn/metrics/_classification.py:1344: UndefinedMetricWarning: Recall and F-score are ill-defined and being set to 0.0 in labels with no true samples. Use `zero_division` parameter to control this behavior.\n",
      "  _warn_prf(average, modifier, msg_start, len(result))\n",
      "/Users/dmitry/.conda/envs/adsp/lib/python3.11/site-packages/sklearn/metrics/_classification.py:1344: UndefinedMetricWarning: Recall and F-score are ill-defined and being set to 0.0 in labels with no true samples. Use `zero_division` parameter to control this behavior.\n",
      "  _warn_prf(average, modifier, msg_start, len(result))\n",
      "/Users/dmitry/.conda/envs/adsp/lib/python3.11/site-packages/sklearn/metrics/_classification.py:1344: UndefinedMetricWarning: Recall and F-score are ill-defined and being set to 0.0 in labels with no true samples. Use `zero_division` parameter to control this behavior.\n",
      "  _warn_prf(average, modifier, msg_start, len(result))\n"
     ]
    }
   ],
   "source": [
    "print('Model description for delivery')\n",
    "print(classification_report(df_vr_delivery_pred['y_delivery_test'], df_vr_delivery_pred['y_delivery_predicted']))"
   ]
  },
  {
   "cell_type": "code",
   "execution_count": 94,
   "metadata": {},
   "outputs": [
    {
     "name": "stdout",
     "output_type": "stream",
     "text": [
      "Model description for seller\n",
      "              precision    recall  f1-score   support\n",
      "\n",
      "           0       0.00      0.00      0.00         0\n",
      "           1       0.45      0.41      0.43        41\n",
      "           2       0.46      0.29      0.36        55\n",
      "           3       0.29      0.47      0.35        30\n",
      "           4       0.37      0.32      0.34        44\n",
      "           5       0.54      0.62      0.57        47\n",
      "\n",
      "    accuracy                           0.41       217\n",
      "   macro avg       0.35      0.35      0.34       217\n",
      "weighted avg       0.43      0.41      0.41       217\n",
      "\n"
     ]
    },
    {
     "name": "stderr",
     "output_type": "stream",
     "text": [
      "/Users/dmitry/.conda/envs/adsp/lib/python3.11/site-packages/sklearn/metrics/_classification.py:1344: UndefinedMetricWarning: Recall and F-score are ill-defined and being set to 0.0 in labels with no true samples. Use `zero_division` parameter to control this behavior.\n",
      "  _warn_prf(average, modifier, msg_start, len(result))\n",
      "/Users/dmitry/.conda/envs/adsp/lib/python3.11/site-packages/sklearn/metrics/_classification.py:1344: UndefinedMetricWarning: Recall and F-score are ill-defined and being set to 0.0 in labels with no true samples. Use `zero_division` parameter to control this behavior.\n",
      "  _warn_prf(average, modifier, msg_start, len(result))\n",
      "/Users/dmitry/.conda/envs/adsp/lib/python3.11/site-packages/sklearn/metrics/_classification.py:1344: UndefinedMetricWarning: Recall and F-score are ill-defined and being set to 0.0 in labels with no true samples. Use `zero_division` parameter to control this behavior.\n",
      "  _warn_prf(average, modifier, msg_start, len(result))\n"
     ]
    }
   ],
   "source": [
    "print('Model description for seller')\n",
    "print(classification_report(df_vr_seller_pred['y_seller_test'], df_vr_seller_pred['y_seller_predicted']))"
   ]
  },
  {
   "cell_type": "code",
   "execution_count": 95,
   "metadata": {},
   "outputs": [
    {
     "name": "stdout",
     "output_type": "stream",
     "text": [
      "Model description for the marketplace\n",
      "              precision    recall  f1-score   support\n",
      "\n",
      "           0       0.00      0.00      0.00         0\n",
      "           1       0.50      0.53      0.51        55\n",
      "           2       0.37      0.22      0.27        50\n",
      "           3       0.48      0.33      0.39        42\n",
      "           4       0.33      0.54      0.41        35\n",
      "           5       0.63      0.44      0.52        39\n",
      "\n",
      "    accuracy                           0.41       221\n",
      "   macro avg       0.38      0.34      0.35       221\n",
      "weighted avg       0.46      0.41      0.42       221\n",
      "\n"
     ]
    },
    {
     "name": "stderr",
     "output_type": "stream",
     "text": [
      "/Users/dmitry/.conda/envs/adsp/lib/python3.11/site-packages/sklearn/metrics/_classification.py:1344: UndefinedMetricWarning: Recall and F-score are ill-defined and being set to 0.0 in labels with no true samples. Use `zero_division` parameter to control this behavior.\n",
      "  _warn_prf(average, modifier, msg_start, len(result))\n",
      "/Users/dmitry/.conda/envs/adsp/lib/python3.11/site-packages/sklearn/metrics/_classification.py:1344: UndefinedMetricWarning: Recall and F-score are ill-defined and being set to 0.0 in labels with no true samples. Use `zero_division` parameter to control this behavior.\n",
      "  _warn_prf(average, modifier, msg_start, len(result))\n",
      "/Users/dmitry/.conda/envs/adsp/lib/python3.11/site-packages/sklearn/metrics/_classification.py:1344: UndefinedMetricWarning: Recall and F-score are ill-defined and being set to 0.0 in labels with no true samples. Use `zero_division` parameter to control this behavior.\n",
      "  _warn_prf(average, modifier, msg_start, len(result))\n"
     ]
    }
   ],
   "source": [
    "print('Model description for the marketplace')\n",
    "print(classification_report(df_vr_marketplace_pred['y_marketplace_test'], df_vr_marketplace_pred['y_marketplace_predicted']))"
   ]
  }
 ],
 "metadata": {
  "kernelspec": {
   "display_name": "adsp",
   "language": "python",
   "name": "python3"
  },
  "language_info": {
   "codemirror_mode": {
    "name": "ipython",
    "version": 3
   },
   "file_extension": ".py",
   "mimetype": "text/x-python",
   "name": "python",
   "nbconvert_exporter": "python",
   "pygments_lexer": "ipython3",
   "version": "3.11.0"
  },
  "orig_nbformat": 4
 },
 "nbformat": 4,
 "nbformat_minor": 2
}
