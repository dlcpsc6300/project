{
 "cells": [
  {
   "cell_type": "code",
   "execution_count": 1,
   "metadata": {},
   "outputs": [
    {
     "name": "stderr",
     "output_type": "stream",
     "text": [
      "[nltk_data] Downloading package stopwords to\n",
      "[nltk_data]     /Users/dmitry/nltk_data...\n",
      "[nltk_data]   Package stopwords is already up-to-date!\n",
      "[nltk_data] Downloading package wordnet to /Users/dmitry/nltk_data...\n",
      "[nltk_data]   Package wordnet is already up-to-date!\n",
      "[nltk_data] Downloading package punkt to /Users/dmitry/nltk_data...\n",
      "[nltk_data]   Package punkt is already up-to-date!\n"
     ]
    }
   ],
   "source": [
    "# imports\n",
    "\n",
    "import csv\n",
    "import string\n",
    "import nltk\n",
    "nltk.download('stopwords')\n",
    "from nltk.stem import WordNetLemmatizer\n",
    "nltk.download('wordnet')\n",
    "nltk.download('punkt')\n",
    "import tqdm"
   ]
  },
  {
   "cell_type": "code",
   "execution_count": 2,
   "metadata": {},
   "outputs": [
    {
     "name": "stderr",
     "output_type": "stream",
     "text": [
      "100%|██████████| 1200/1200 [00:02<00:00, 442.14it/s]\n",
      "100%|██████████| 1200/1200 [00:00<00:00, 51283.99it/s]\n"
     ]
    }
   ],
   "source": [
    "# preprocessing\n",
    "\n",
    "def lower(str):\n",
    "    return str.lower()\n",
    "\n",
    "def lemmatize(str):\n",
    "    lemmatizer = WordNetLemmatizer()\n",
    "    tokens = nltk.word_tokenize(str)\n",
    "    return' '.join([lemmatizer.lemmatize(token) for token in tokens])\n",
    "\n",
    "def remove_punctuation(str):\n",
    "    return ''.join([w for w in str if w not in string.punctuation])\n",
    "\n",
    "def preprocess(str):\n",
    "    str = lower(str)\n",
    "    str = lemmatize(str)\n",
    "    str = remove_punctuation(str)\n",
    "    return ' '.join(str.split())\n",
    "\n",
    "with open('data/reviews_posneg_cleaned.csv', 'r', newline='') as f:\n",
    "    reader = csv.DictReader(f)\n",
    "    raw = list(reader)\n",
    "    for row in tqdm.tqdm(raw):\n",
    "        row['title'] = preprocess(row['title'])\n",
    "        row['body'] = preprocess(row['body'])\n",
    "    with open('data/reviews_posneg_preprocessed.csv', 'w', newline='') as f:\n",
    "        headers = ['title', 'body', 'rating_item', 'rating_delivery', 'rating_seller', 'rating_marketplace', 'rating_total']\n",
    "        writer = csv.DictWriter(f, fieldnames=headers, delimiter=',', quoting=csv.QUOTE_NONNUMERIC)\n",
    "        writer.writeheader()\n",
    "        for row in tqdm.tqdm(raw):\n",
    "            writer.writerow({\n",
    "                'title': row['title'],\n",
    "                'body': row['body'],\n",
    "                'rating_item': row['rating_item'],\n",
    "                'rating_delivery': row['rating_delivery'],\n",
    "                'rating_seller': row['rating_seller'],\n",
    "                'rating_marketplace': row['rating_marketplace'],\n",
    "                'rating_total': row['rating_total']\n",
    "            })"
   ]
  }
 ],
 "metadata": {
  "kernelspec": {
   "display_name": "adsp",
   "language": "python",
   "name": "python3"
  },
  "language_info": {
   "codemirror_mode": {
    "name": "ipython",
    "version": 3
   },
   "file_extension": ".py",
   "mimetype": "text/x-python",
   "name": "python",
   "nbconvert_exporter": "python",
   "pygments_lexer": "ipython3",
   "version": "3.11.0"
  },
  "orig_nbformat": 4
 },
 "nbformat": 4,
 "nbformat_minor": 2
}
